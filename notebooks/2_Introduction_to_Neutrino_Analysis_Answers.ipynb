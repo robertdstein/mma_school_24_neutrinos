{
 "cells": [
  {
   "cell_type": "code",
   "execution_count": null,
   "id": "444bec8e-0de2-46e3-93c0-2f0f77f69b5d",
   "metadata": {},
   "outputs": [],
   "source": [
    "%matplotlib inline\n",
    "import matplotlib.pyplot as plt\n",
    "from nuclass.data import icecat1_cut\n",
    "import numpy as np\n",
    "import pandas as pd\n",
    "from tqdm import tqdm\n",
    "from astropy.time import Time\n",
    "from astropy.coordinates import SkyCoord\n",
    "from astropy import units as u"
   ]
  },
  {
   "cell_type": "code",
   "execution_count": null,
   "id": "9f1c69c5-46a0-42d4-b06a-ed044d74739a",
   "metadata": {},
   "outputs": [],
   "source": [
    "# window for source analysis, in days, relative to a reference time \n",
    "phase_min = 0.\n",
    "phase_max = +180."
   ]
  },
  {
   "cell_type": "markdown",
   "id": "13fe1909-a3c9-44ad-820a-5fdd212fe1ca",
   "metadata": {},
   "source": [
    "# Set up IceCube data"
   ]
  },
  {
   "cell_type": "code",
   "execution_count": null,
   "id": "0c95211b-5799-4966-9964-69c66c9ae297",
   "metadata": {},
   "outputs": [],
   "source": [
    "# Set Up Times\n",
    "t_min = icecat1_cut[\"EVENTMJD\"].min()\n",
    "t_length = icecat1_cut[\"EVENTMJD\"].max() - t_min"
   ]
  },
  {
   "cell_type": "markdown",
   "id": "d6b7d2c8-43f1-40ce-8267-b2b2bc7ccafb",
   "metadata": {},
   "source": [
    "We need to convert the IceCube coordinates, which has a center and +/- bounds, to exact corners of a rectangle"
   ]
  },
  {
   "cell_type": "code",
   "execution_count": null,
   "id": "3e2a2dcd-f43c-4f3e-98a2-9d6bb347c195",
   "metadata": {},
   "outputs": [],
   "source": [
    "def calculate_recatangle_bounds(df: pd.DataFrame) -> pd.DataFrame:\n",
    "    \"\"\"\n",
    "    Calculate the bounds of a rectangle for a neutrino.\n",
    "\n",
    "    This is a bit non-trivial, because you need to wrap around the 0/2 pi boundary\n",
    "    \"\"\"\n",
    "    df = df.copy()\n",
    "\n",
    "    # Calculate bounds of rectangle for each neutrino\n",
    "\n",
    "    # RA lower bound\n",
    "    ra_min = df[\"RARAD\"] - np.radians(df[\"RA_ERR_MINUS\"])\n",
    "    # Wrap around 2 pi\n",
    "    ra_min[ra_min < 0.] += 2 * np.pi\n",
    "    df[\"RAMIN\"] = ra_min\n",
    "    \n",
    "    # Ra upper bound\n",
    "    ra_max = df[\"RARAD\"] + np.radians(icecat1_cut[\"RA_ERR_PLUS\"])\n",
    "    # Wrap around 2 pi\n",
    "    ra_max[ra_max > 2 * np.pi] -= 2 * np.pi\n",
    "    df[\"RAMAX\"] = ra_max\n",
    "\n",
    "    # Dec bounds (here it's fine maths-wise to have bounds beyond +90 or -90)\n",
    "    df[\"DECMIN\"] = df[\"DECRAD\"] - np.radians(df[\"DEC_ERR_MINUS\"])\n",
    "    df[\"DECMAX\"] = df[\"DECRAD\"] + np.radians(df[\"DEC_ERR_PLUS\"])\n",
    "    return df"
   ]
  },
  {
   "cell_type": "code",
   "execution_count": null,
   "id": "96d986f5-3c4e-408e-aa3c-3ab7d5b3cde6",
   "metadata": {},
   "outputs": [],
   "source": [
    "icecat1_cut[\"RARAD\"] = np.radians(icecat1_cut[\"RA\"])\n",
    "icecat1_cut[\"DECRAD\"] = np.radians(icecat1_cut[\"DEC\"])\n",
    "icecat1_cut = calculate_recatangle_bounds(icecat1_cut)"
   ]
  },
  {
   "cell_type": "code",
   "execution_count": null,
   "id": "daa9abed-da49-4fa7-9f57-e54d44c563dd",
   "metadata": {},
   "outputs": [],
   "source": [
    "def scramble_positions(df: pd.DataFrame) -> pd.DataFrame:\n",
    "    \"\"\"\n",
    "    This function randomly redistributes the neutrino alerts in RA and time, \n",
    "    producing a simulated neutrino catalogue\n",
    "    \"\"\"\n",
    "    new_df = df.copy()\n",
    "    \n",
    "    # Scramble \n",
    "    # Uniform in RA\n",
    "    new_ra  = np.random.uniform(size=len(df)) * 2 * np.pi\n",
    "    # Uniform in time\n",
    "    new_times = t_min + np.random.uniform(size=len(df)) * t_length\n",
    "\n",
    "    new_df[\"RARAD\"] = new_ra\n",
    "    new_df[\"DECRAD\"] = np.radians(df[\"DEC\"]) # Keep dec the same\n",
    "    new_df[\"EVENTMJD\"] = new_times\n",
    "\n",
    "    new_df = calculate_recatangle_bounds(new_df)\n",
    "    return new_df"
   ]
  },
  {
   "cell_type": "code",
   "execution_count": null,
   "id": "e026f755-7210-46d0-89a1-e2b8bb85dea5",
   "metadata": {},
   "outputs": [],
   "source": [
    "# Let's try scrambling the catalogue\n",
    "df = scramble_positions(icecat1_cut)"
   ]
  },
  {
   "cell_type": "code",
   "execution_count": null,
   "id": "78428a89-effb-44f1-8c69-f7190d151ffb",
   "metadata": {},
   "outputs": [],
   "source": [
    "# Here we see that all the events have new RA values and new times\n",
    "df"
   ]
  },
  {
   "cell_type": "markdown",
   "id": "da7c6e35-6ee4-4f60-aa0e-b36959a270b2",
   "metadata": {},
   "source": [
    "# Set up the Source Catalogue that you will test"
   ]
  },
  {
   "cell_type": "code",
   "execution_count": null,
   "id": "9b272171-da6f-4267-a31a-0a767bf563fc",
   "metadata": {},
   "outputs": [],
   "source": [
    "# This is a completely randomised catalogue of 100 sources, distributed across the sky\n",
    "n = 100\n",
    "\n",
    "cat = pd.DataFrame()\n",
    "cat[\"RARAD\"] = np.random.uniform(size=n) * 2 * np.pi\n",
    "cat[\"DECRAD\"] = -np.pi/2. + np.random.uniform(size=n) * np.pi\n",
    "cat[\"REFMJD\"] = t_min + np.random.uniform(size=n) * t_length\n",
    "cat\n",
    "\n",
    "# Exercise - replace with a real catalogue here!!!"
   ]
  },
  {
   "cell_type": "markdown",
   "id": "c88389f8-94e6-493d-8d50-93980946ad6c",
   "metadata": {},
   "source": [
    "# Check the number of matches between the neurtrinos and the sources"
   ]
  },
  {
   "cell_type": "code",
   "execution_count": 1,
   "id": "9cc556b7-803b-4008-91b0-53120640484b",
   "metadata": {},
   "outputs": [
    {
     "ename": "NameError",
     "evalue": "name 'pd' is not defined",
     "output_type": "error",
     "traceback": [
      "\u001b[0;31m---------------------------------------------------------------------------\u001b[0m",
      "\u001b[0;31mNameError\u001b[0m                                 Traceback (most recent call last)",
      "Cell \u001b[0;32mIn[1], line 1\u001b[0m\n\u001b[0;32m----> 1\u001b[0m \u001b[38;5;28;01mdef\u001b[39;00m \u001b[38;5;21mcheck_matches_single\u001b[39m(nu: \u001b[43mpd\u001b[49m\u001b[38;5;241m.\u001b[39mDataFrame, src: pd\u001b[38;5;241m.\u001b[39mDataFrame) \u001b[38;5;241m-\u001b[39m\u001b[38;5;241m>\u001b[39m \u001b[38;5;28mint\u001b[39m:\n\u001b[1;32m      2\u001b[0m \u001b[38;5;250m    \u001b[39m\u001b[38;5;124;03m\"\"\"\u001b[39;00m\n\u001b[1;32m      3\u001b[0m \u001b[38;5;124;03m    Check how many (if any) sources are coincident with a neutrino\u001b[39;00m\n\u001b[1;32m      4\u001b[0m \n\u001b[0;32m   (...)\u001b[0m\n\u001b[1;32m      8\u001b[0m \u001b[38;5;124;03m    :return: Number of matches for one neutrino\u001b[39;00m\n\u001b[1;32m      9\u001b[0m \u001b[38;5;124;03m    \"\"\"\u001b[39;00m\n\u001b[1;32m     10\u001b[0m     \u001b[38;5;66;03m# Check wrap if rectangle overlaps 360 wraparound \u001b[39;00m\n",
      "\u001b[0;31mNameError\u001b[0m: name 'pd' is not defined"
     ]
    }
   ],
   "source": [
    "def check_matches_single(nu: pd.DataFrame, src: pd.DataFrame) -> int:\n",
    "    \"\"\"\n",
    "    Check how many (if any) sources are coincident with a neutrino\n",
    "\n",
    "    :param nu: pd.Series entry for neutrino, from IceCat\n",
    "    :param src: Source Catalogue\n",
    "\n",
    "    :return: Number of matches for one neutrino\n",
    "    \"\"\"\n",
    "    # Check wrap if rectangle overlaps 360 wraparound \n",
    "    if nu[\"RAMAX\"] < nu[\"RAMIN\"]:\n",
    "        # Check if sources lie in the lower or upper RA range\n",
    "        ra_mask = (\n",
    "            (src[\"RARAD\"] < nu[\"RAMAX\"]) | (src[\"RARAD\"] > nu[\"RAMIN\"])\n",
    "        )\n",
    "\n",
    "    else:\n",
    "        # Check if source lies in the ra range\n",
    "        ra_mask = src[\"RARAD\"].between(nu[\"RAMIN\"], nu[\"RAMAX\"])\n",
    "\n",
    "    # Check if source lies in dec range\n",
    "    dec_mask = src[\"DECRAD\"].between(nu[\"DECMIN\"], nu[\"DECMAX\"])\n",
    "\n",
    "    # Check if neutrino is temporally coincident with source\n",
    "    time_mask = (nu[\"EVENTMJD\"] - src[\"REFMJD\"]).between(phase_min, phase_max)\n",
    "\n",
    "    # Check if spatially AND temporally coincident\n",
    "    mask = ra_mask & dec_mask & time_mask\n",
    "    return int(mask.sum())\n",
    "\n",
    "def check_matches(src: pd.DataFrame, nudf: pd.DataFrame) -> int:\n",
    "    \"\"\"\n",
    "    Iteratively the total number of neutrino-source matches\n",
    "\n",
    "    :param src: Source catalogue\n",
    "    :param nudf: Dataframe containing all neutrino positions\n",
    "    \n",
    "    :return: Total number of neutrino-source matches\n",
    "    \"\"\"\n",
    "    n_match = 0\n",
    "    for i, nu in nudf.iterrows():\n",
    "        n_match += check_matches_single(nu, src)\n",
    "    return n_match"
   ]
  },
  {
   "cell_type": "code",
   "execution_count": 2,
   "id": "4af14260-30de-43be-9a03-462f55ab1159",
   "metadata": {},
   "outputs": [
    {
     "ename": "NameError",
     "evalue": "name 'check_matches' is not defined",
     "output_type": "error",
     "traceback": [
      "\u001b[0;31m---------------------------------------------------------------------------\u001b[0m",
      "\u001b[0;31mNameError\u001b[0m                                 Traceback (most recent call last)",
      "Cell \u001b[0;32mIn[2], line 1\u001b[0m\n\u001b[0;32m----> 1\u001b[0m true_matches \u001b[38;5;241m=\u001b[39m \u001b[43mcheck_matches\u001b[49m(cat, icecat1_cut)\n\u001b[1;32m      2\u001b[0m \u001b[38;5;28mprint\u001b[39m(\u001b[38;5;124mf\u001b[39m\u001b[38;5;124m\"\u001b[39m\u001b[38;5;124mFound \u001b[39m\u001b[38;5;132;01m{\u001b[39;00mtrue_matches\u001b[38;5;132;01m}\u001b[39;00m\u001b[38;5;124m neutrino-catalogue matches\u001b[39m\u001b[38;5;124m\"\u001b[39m)\n\u001b[1;32m      3\u001b[0m true_matches\n",
      "\u001b[0;31mNameError\u001b[0m: name 'check_matches' is not defined"
     ]
    }
   ],
   "source": [
    "true_matches = check_matches(cat, icecat1_cut)\n",
    "print(f\"Found {true_matches} neutrino-catalogue matches\")\n",
    "true_matches"
   ]
  },
  {
   "cell_type": "markdown",
   "id": "45881d63-0c1d-4274-be28-95bbae19f163",
   "metadata": {},
   "source": [
    "# Estimate how likely the result is to arise by chance"
   ]
  },
  {
   "cell_type": "code",
   "execution_count": null,
   "id": "875f6971-48b2-424d-bde7-9edbdc574565",
   "metadata": {},
   "outputs": [],
   "source": [
    "# Calculate background matches\n",
    "trials = []"
   ]
  },
  {
   "cell_type": "code",
   "execution_count": null,
   "id": "dd2c47b1-124b-45d4-b653-294d2c31692a",
   "metadata": {},
   "outputs": [],
   "source": [
    "# Run many randomised experiments to compare\n",
    "n_trial = 1000\n",
    "\n",
    "for i in tqdm(range(n_trial)):\n",
    "    df = scramble_positions(icecat1_cut)\n",
    "    trial_matches = check_matches(cat, df)\n",
    "    trials.append(trial_matches)\n"
   ]
  },
  {
   "cell_type": "code",
   "execution_count": null,
   "id": "191d5911-8e7b-43fa-ae45-950438c1f507",
   "metadata": {},
   "outputs": [],
   "source": [
    "# Plot the distrubtion of random matches expected, alongside the true result \n",
    "data = pd.Series(trials)\n",
    "left_of_first_bin = data.min() - 0.5\n",
    "right_of_last_bin = data.max() + 0.5\n",
    "\n",
    "weight = np.ones(len(data))/len(data)\n",
    "\n",
    "plt.hist(data, np.arange(left_of_first_bin, right_of_last_bin + 1, 1), weights=weight, edgecolor='black', label=\"Background PDF\")\n",
    "plt.axvline(true_matches, label=\"Observed matches\", color=\"k\", linestyle=\"--\")\n",
    "plt.legend()\n",
    "plt.ylim(top=1.0)"
   ]
  },
  {
   "cell_type": "code",
   "execution_count": null,
   "id": "011570cd-b7f4-43bc-9cba-905611cffa7f",
   "metadata": {},
   "outputs": [],
   "source": [
    "trial_series = pd.Series(trials)\n",
    "n_less = (trial_series < true_matches).sum()\n",
    "n_tot = len(trial_series)\n",
    "frac = n_less/n_tot\n",
    "\n",
    "print(f\"{n_less} of the {n_tot} trials yielded fewer matches than the real data ({true_matches} matches)\")\n",
    "print(f\"This corresponds to {100.*frac:.2f}%, and means an excess above background expectations {['has', 'has not'][int(frac < 0.5)]} been observed\")"
   ]
  },
  {
   "cell_type": "code",
   "execution_count": null,
   "id": "11116204-f113-4352-a29f-7abeb1fe0aeb",
   "metadata": {},
   "outputs": [],
   "source": [
    "# Now, your challenge: find a catalogue of real sources and repeat the test!"
   ]
  },
  {
   "cell_type": "code",
   "execution_count": null,
   "id": "4e03df72-8069-4bfa-8cb1-5b9de6233d8d",
   "metadata": {},
   "outputs": [],
   "source": []
  }
 ],
 "metadata": {
  "kernelspec": {
   "display_name": "nuclassenv",
   "language": "python",
   "name": "nuclassenv"
  },
  "language_info": {
   "codemirror_mode": {
    "name": "ipython",
    "version": 3
   },
   "file_extension": ".py",
   "mimetype": "text/x-python",
   "name": "python",
   "nbconvert_exporter": "python",
   "pygments_lexer": "ipython3",
   "version": "3.11.9"
  }
 },
 "nbformat": 4,
 "nbformat_minor": 5
}

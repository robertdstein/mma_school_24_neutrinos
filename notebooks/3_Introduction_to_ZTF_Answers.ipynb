{
 "cells": [
  {
   "cell_type": "code",
   "execution_count": null,
   "id": "de848c46-b2f9-4788-bcda-23cb2932e868",
   "metadata": {},
   "outputs": [],
   "source": [
    "%matplotlib inline\n",
    "import matplotlib.pyplot as plt\n",
    "import pandas as pd\n",
    "import fastavro\n",
    "from pathlib import Path\n",
    "from fastavro import reader\n",
    "from tqdm import tqdm\n",
    "from astropy.time import Time\n",
    "import numpy as np\n",
    "import gzip\n",
    "from astropy.io import fits\n",
    "import io\n",
    "from astropy import visualization\n",
    "from matplotlib.colors import Normalize\n",
    "from matplotlib.figure import Figure\n",
    "from matplotlib.backends.backend_pdf import PdfPages\n",
    "from nuclass import output_dir\n",
    "from alerce.core import Alerce\n",
    "import numpy as np"
   ]
  },
  {
   "cell_type": "markdown",
   "id": "deea41ab-0fa3-45f9-adcd-d7f78614e6d3",
   "metadata": {},
   "source": [
    "# Read in data"
   ]
  },
  {
   "cell_type": "code",
   "execution_count": null,
   "id": "666b0879-60c0-4cd2-85a8-de375cf3e605",
   "metadata": {},
   "outputs": [],
   "source": [
    "# Replace with your own path!\n",
    "avro_dir = Path(\"/Users/robertstein/Downloads/ztf_public_20191001/\")\n",
    "assert avro_dir.exists(), f\"No avros found at {avro_dir}\""
   ]
  },
  {
   "cell_type": "code",
   "execution_count": null,
   "id": "0bc308d1-8887-461c-825d-612edda43d8b",
   "metadata": {},
   "outputs": [],
   "source": [
    "avro_files = list(avro_dir.glob(\"*.avro\"))"
   ]
  },
  {
   "cell_type": "code",
   "execution_count": null,
   "id": "37c3df6d-3c10-4bad-97fa-553497812613",
   "metadata": {},
   "outputs": [],
   "source": [
    "# Loop to read in avro files from a directory\n",
    "records = []\n",
    "for avro_path in tqdm(avro_files):\n",
    "    with open(avro_path, \"rb\") as avro_f:\n",
    "        avro_reader = reader(avro_f)\n",
    "        schema = avro_reader.writer_schema\n",
    "        try:\n",
    "            for record in avro_reader:\n",
    "    \n",
    "                # Flatten nested ZTF data\n",
    "                new = {k:v for k, v in record.items() if (\"candidate\" not in k) & (\"cutout\" not in k)}\n",
    "                new.update(**record[\"candidate\"])\n",
    "                new[\"prv_candidates\"] = pd.DataFrame(record[\"prv_candidates\"])   \n",
    "                for key in record:\n",
    "                    if \"cutout\" in key:\n",
    "                        new[key] = record[key][\"stampData\"]\n",
    "                \n",
    "                records.append(new)\n",
    "        except ValueError:\n",
    "            print(f\"problem with {avro_path}. Skipping!\")"
   ]
  },
  {
   "cell_type": "code",
   "execution_count": null,
   "id": "6d659285-984a-46b0-bf95-432351e3c63a",
   "metadata": {},
   "outputs": [],
   "source": [
    "df = pd.DataFrame(records)\n",
    "df"
   ]
  },
  {
   "cell_type": "markdown",
   "id": "2ae237c2-1f80-4a4f-86dc-0ef9aa187496",
   "metadata": {},
   "source": [
    "The ZTF data contains roughly 100000 detections for that one night of data. Too many to classify spectroscopically!\n",
    "\n",
    "We need to cut aggresively to get this down to a reasonable number."
   ]
  },
  {
   "cell_type": "markdown",
   "id": "10a43c62-0dd3-4159-b37a-c1a416c070b4",
   "metadata": {},
   "source": [
    "# Cutting down the ZTF data"
   ]
  },
  {
   "cell_type": "code",
   "execution_count": null,
   "id": "31369490-bda4-4581-b55f-101928a849ff",
   "metadata": {
    "scrolled": true
   },
   "outputs": [],
   "source": [
    "list(x for x in df.columns)"
   ]
  },
  {
   "cell_type": "markdown",
   "id": "d4e46f15-502b-4b91-b7cd-847be3232f68",
   "metadata": {},
   "source": [
    "These are all the fields available to us. The names may not be obvious to you.\n",
    "\n",
    "Look at the ZTF avro alert schema to work out what the field names mean, and which ones you need to use in this section: https://zwickytransientfacility.github.io/ztf-avro-alert/schema.html"
   ]
  },
  {
   "cell_type": "code",
   "execution_count": null,
   "id": "83f9c08f-1bfc-4f52-8daa-16424c3b3e34",
   "metadata": {},
   "outputs": [],
   "source": [
    "# Look up the information for neutrino IceCube-191009A from the GCN Circular website (https://gcn.nasa.gov/circulars)\n",
    "\n",
    "ra_min = # Your answer goes here\n",
    "ra_max = # Your answer goes here\n",
    "dec_min = # Your answer goes here\n",
    "dec_max = # Your answer goes here\n",
    "\n",
    "neutrino_time_jd = # Your answer goes here"
   ]
  },
  {
   "cell_type": "code",
   "execution_count": null,
   "id": "e4ebbbf1-9c16-47c8-8640-d014eb046d68",
   "metadata": {},
   "outputs": [],
   "source": [
    "# Cut sources based on RA/DEC\n",
    "# Sources should lie in the rectangle\n",
    "\n",
    "mask = # your answer here\n",
    "df = df[mask]"
   ]
  },
  {
   "cell_type": "code",
   "execution_count": null,
   "id": "fe10012c-c364-487a-adca-29c00251756a",
   "metadata": {},
   "outputs": [],
   "source": [
    "# Remove moving objects\n",
    "# Moving objects are not detected twice in the same place\n",
    "\n",
    "mask = # your answer here\n",
    "df = df[mask]"
   ]
  },
  {
   "cell_type": "code",
   "execution_count": null,
   "id": "36a4045f-1744-4ec4-8c09-881c98f4744f",
   "metadata": {},
   "outputs": [],
   "source": [
    "# Remove image artefacts (\"bogus\") detections\n",
    "# ZTF includes a score for this, and I recommend removing sources with scores < 0.6\n",
    "\n",
    "mask = # your answer here\n",
    "df = df[mask]"
   ]
  },
  {
   "cell_type": "code",
   "execution_count": null,
   "id": "aabc87ac-2cb4-46d8-88dc-2024bfb734be",
   "metadata": {},
   "outputs": [],
   "source": [
    "# Remove likely stars\n",
    "# Nearby sources (detected in 'PS1') are classified automatically in the ZTF data\n",
    "# I suggest you remove ZTF sources if there is a PS1 sources that is within 2\" and that PS1 source is classified as a likely a star (>0.5) \n",
    "\n",
    "mask = # your answer here\n",
    "df = df[mask]"
   ]
  },
  {
   "cell_type": "code",
   "execution_count": null,
   "id": "ba47bf1e-f45c-4fb6-84da-672bab7bfc0d",
   "metadata": {},
   "outputs": [],
   "source": [
    "# Select transients that are brighter than the reference image. \n",
    "# These are sources which come from a 'positive subtraction'\n",
    "\n",
    "mask = # your answer here\n",
    "df = df[mask]"
   ]
  },
  {
   "cell_type": "code",
   "execution_count": null,
   "id": "c3013db4-2fbf-4106-9b40-f6e354b6a4a5",
   "metadata": {},
   "outputs": [],
   "source": [
    "# deduplicate\n",
    "new = []\n",
    "\n",
    "for name in set(df[\"objectId\"]):\n",
    "    mask = df[\"objectId\"] == name\n",
    "    df_cut = df[mask]\n",
    "    new.append(df_cut.sort_values(by=\"jd\").iloc[-1])\n",
    "\n",
    "print(f\"Removing {len(df) - len(new)}, leaving {len(new)} sources\")\n",
    "\n",
    "df = pd.DataFrame(new)"
   ]
  },
  {
   "cell_type": "code",
   "execution_count": null,
   "id": "e597b266-b6b3-4b8a-850d-a37054ae662d",
   "metadata": {},
   "outputs": [],
   "source": [
    "df"
   ]
  },
  {
   "cell_type": "markdown",
   "id": "c4b8c8be-8668-4be2-ac1f-eca5dbc61e95",
   "metadata": {},
   "source": [
    "You should now have a more manageable number of sources left. Out of 100000, I had 8 left at this stage."
   ]
  },
  {
   "cell_type": "markdown",
   "id": "279c2c10-9c43-4a4b-8a2c-56405f498c14",
   "metadata": {},
   "source": [
    "# Vetting Candidates"
   ]
  },
  {
   "cell_type": "markdown",
   "id": "3eeb5863-e312-48fa-948b-fcfea0a49e8c",
   "metadata": {},
   "source": [
    "Now comes the critical stage. We will not be able to take spectra of all remaining sources. Instead, we need to do our best to work out what they are first.\n",
    "\n",
    "We should check if any are classified already, and whether any are known varaiable sources e.g AGN/stars. \n",
    "\n",
    "We can plot the source lightcurves to get an idea of what things might be, as well."
   ]
  },
  {
   "cell_type": "code",
   "execution_count": null,
   "id": "af1e4661-4fb6-40a9-8748-eab52f27be0d",
   "metadata": {},
   "outputs": [],
   "source": [
    "BAND_NAMES = {\n",
    "    1: \"g\",\n",
    "    2: \"r\",\n",
    "    3: \"i\",\n",
    "}\n",
    "\n",
    "BAND_COLORS = {\n",
    "    1: \"g\",\n",
    "    2: \"r\",\n",
    "    3: \"orange\",\n",
    "}\n",
    "\n",
    "def decode_img(compressed_bytes: bytes) -> np.ndarray:\n",
    "    \"\"\"\n",
    "    Function to parse a cutout (gziped fits file) into a numpy array\n",
    "\n",
    "    :param compressed_bytes: Gziped fits file bytes\n",
    "    :return: Numpy array of the image\n",
    "    \"\"\"\n",
    "    with gzip.open(io.BytesIO(compressed_bytes), \"r\") as gzipped_f:\n",
    "        with fits.open(io.BytesIO(gzipped_f.read()), ignore_missing_simple=True) as hdu:\n",
    "            data = hdu[0].data  # pylint: disable=no-member\n",
    "    return data\n",
    "\n",
    "\n",
    "def generate_single_page(row: pd.Series, ann_fields: list[str] | None = None) -> plt.Figure:\n",
    "    \"\"\"\n",
    "    Generate a page for a given row of data.\n",
    "\n",
    "    :param row: Single detection in the data\n",
    "    :param ann_fields: Fields to annotate\n",
    "    :return: Figure\n",
    "    \"\"\"\n",
    "    if ann_fields is None:\n",
    "        ann_fields = [\"candid\", \"sgscore1\", \"distpsnr1\", \"drb\", \"jdstarthist\"]\n",
    "    \n",
    "    cutouts = [x for x in row.index if \"cutout\" in x]\n",
    "\n",
    "    base_width = 5.0\n",
    "\n",
    "    fig = plt.figure(figsize=(len(cutouts) * base_width, 2.0 * base_width))\n",
    "\n",
    "    for i, cutout in enumerate(cutouts):\n",
    "        ax = plt.subplot(2, len(cutouts), i + 1)\n",
    "\n",
    "        data = decode_img(row[cutout])\n",
    "\n",
    "        vmin, vmax = np.nanpercentile(data, [0, 100])\n",
    "        data_ = visualization.AsinhStretch()((data - vmin) / (vmax - vmin))\n",
    "        ax.imshow(\n",
    "            data_,\n",
    "            norm=Normalize(*np.nanpercentile(data_, [0.5, 99.5])),\n",
    "            aspect=\"auto\",\n",
    "        )\n",
    "        ax.set_xticks([])\n",
    "        ax.set_yticks([])\n",
    "        ax.set_title(cutout.split(\"cutout\")[1], fontdict={\"fontsize\": \"small\"})\n",
    "\n",
    "    ax_l = plt.subplot(2, 2, 3)\n",
    "\n",
    "    # Combine history and latest detection\n",
    "    hist = pd.concat([row[\"prv_candidates\"], row.to_frame().T], axis=0)\n",
    "    \n",
    "\n",
    "    # Plot lightcurve, colour-coded by filter\n",
    "    for fid in set(hist[\"fid\"]):\n",
    "        df = hist[(hist[\"fid\"] == fid) & (hist[\"isdiffpos\"].isin([\"t\", \"true\", \"True\", 1, \"1\", 1.0]))]\n",
    "        plt.errorbar(\n",
    "            df[\"jd\"],\n",
    "            df[\"magpsf\"],\n",
    "            abs(df[\"sigmapsf\"]),\n",
    "            fmt=\".\",\n",
    "            label=BAND_NAMES[fid],\n",
    "            color=BAND_COLORS[fid],\n",
    "            mec=\"black\",\n",
    "            mew=0.5,\n",
    "        )\n",
    "    plt.legend()\n",
    "    plt.axvline(neutrino_time_jd, label=r\"$\\nu$\", linestyle=\":\")\n",
    "\n",
    "    # Astronomers plot magnitude upside down\n",
    "    ax_l.set_xlabel(\"JD\")\n",
    "    ax_l.set_ylabel(\"mag\")\n",
    "    ax_l.invert_yaxis()\n",
    "\n",
    "    # Add a bunch of annotations to the PDF\n",
    "    # One row per entry in ann_fields\n",
    "\n",
    "    ax = plt.subplot(2, 2, 4)\n",
    "    ax.axis(False)\n",
    "\n",
    "    plot_fields = []\n",
    "\n",
    "    for field in ann_fields:\n",
    "        val = row[field]\n",
    "        if isinstance(val, float):\n",
    "            plot_fields.append(f\"{field}: {val:.3f}\")\n",
    "        else:\n",
    "            plot_fields.append(f\"{field}: {val}\")\n",
    "\n",
    "    plt.annotate(\n",
    "        \"\\n\".join(plot_fields), xy=(0.05, 0.98), xycoords=\"axes fraction\", va=\"top\"\n",
    "    )\n",
    "    plt.suptitle(f\"{row['objectId']}\")\n",
    "    return fig"
   ]
  },
  {
   "cell_type": "code",
   "execution_count": null,
   "id": "3aef5d48-fe92-42aa-88e1-2485f9963b5d",
   "metadata": {},
   "outputs": [],
   "source": [
    "fig = generate_single_page(df.iloc[0])"
   ]
  },
  {
   "cell_type": "code",
   "execution_count": null,
   "id": "4139ba60-21a5-4bf0-b381-f578ee24adb6",
   "metadata": {},
   "outputs": [],
   "source": [
    "outpath = output_dir / \"candidates.pdf\"\n",
    "print(f\"Saving PDF to {outpath}\")\n",
    "\n",
    "with PdfPages(outpath) as pdf:\n",
    "    for i, row in tqdm(df.iterrows(), total=len(df)):\n",
    "        generate_single_page(row)\n",
    "        pdf.savefig()\n",
    "        plt.close()"
   ]
  },
  {
   "cell_type": "code",
   "execution_count": null,
   "id": "79a5f46b-a8a0-440b-af6c-92d99a82c651",
   "metadata": {},
   "outputs": [],
   "source": []
  },
  {
   "cell_type": "code",
   "execution_count": null,
   "id": "a702a26e-1592-4120-9ca6-79c702cd75ee",
   "metadata": {},
   "outputs": [],
   "source": []
  }
 ],
 "metadata": {
  "kernelspec": {
   "display_name": "nuclassenv",
   "language": "python",
   "name": "nuclassenv"
  },
  "language_info": {
   "codemirror_mode": {
    "name": "ipython",
    "version": 3
   },
   "file_extension": ".py",
   "mimetype": "text/x-python",
   "name": "python",
   "nbconvert_exporter": "python",
   "pygments_lexer": "ipython3",
   "version": "3.11.9"
  }
 },
 "nbformat": 4,
 "nbformat_minor": 5
}

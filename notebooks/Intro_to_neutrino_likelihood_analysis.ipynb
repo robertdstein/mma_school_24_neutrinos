{
 "cells": [
  {
   "cell_type": "code",
   "execution_count": 1,
   "id": "b577ebfc-0ad5-4b54-9308-29ac08759184",
   "metadata": {},
   "outputs": [
    {
     "name": "stdout",
     "output_type": "stream",
     "text": [
      "Using matplotlib backend: module://matplotlib_inline.backend_inline\n"
     ]
    }
   ],
   "source": [
    "%matplotlib\n",
    "import matplotlib.pyplot as plt\n",
    "import numpy as np\n",
    "from nuclass.data import icecat1\n",
    "from astropy.coordinates import SkyCoord, get_sun\n",
    "from astropy.time import Time"
   ]
  },
  {
   "cell_type": "markdown",
   "id": "bcced16a-bc57-43b9-9f83-e76f3ee9f7fe",
   "metadata": {},
   "source": [
    "# Neutrino Data"
   ]
  },
  {
   "cell_type": "markdown",
   "id": "84f9b745-1f4d-4053-bb12-ae858bf76151",
   "metadata": {},
   "source": [
    " We use a catalogue of high-energy neutrinos from IceCuce known as ICECAT1.\n",
    "The catalogue is described at https://icecube.wisc.edu/data-releases/2023/04/icecat-1-the-icecube-event-catalog-of-alert-tracks/ , and contains neutrinos through to the end of 2023.\n",
    "\n",
    "You can find the latest list of neutrino alerts on the GCN page https://gcn.gsfc.nasa.gov/amon_icecube_gold_bronze_events.html , and sign up to receive notifications or access via API."
   ]
  },
  {
   "cell_type": "code",
   "execution_count": 2,
   "id": "49d847ee-c994-4689-9773-7696c8ce0558",
   "metadata": {},
   "outputs": [
    {
     "data": {
      "text/html": [
       "<div>\n",
       "<style scoped>\n",
       "    .dataframe tbody tr th:only-of-type {\n",
       "        vertical-align: middle;\n",
       "    }\n",
       "\n",
       "    .dataframe tbody tr th {\n",
       "        vertical-align: top;\n",
       "    }\n",
       "\n",
       "    .dataframe thead th {\n",
       "        text-align: right;\n",
       "    }\n",
       "</style>\n",
       "<table border=\"1\" class=\"dataframe\">\n",
       "  <thead>\n",
       "    <tr style=\"text-align: right;\">\n",
       "      <th></th>\n",
       "      <th>NAME</th>\n",
       "      <th>RUNID</th>\n",
       "      <th>EVENTID</th>\n",
       "      <th>START</th>\n",
       "      <th>EVENTMJD</th>\n",
       "      <th>I3TYPE</th>\n",
       "      <th>RA</th>\n",
       "      <th>DEC</th>\n",
       "      <th>RA_ERR_PLUS</th>\n",
       "      <th>RA_ERR_MINUS</th>\n",
       "      <th>...</th>\n",
       "      <th>ENERGY</th>\n",
       "      <th>FAR</th>\n",
       "      <th>SIGNAL</th>\n",
       "      <th>CASCADE_SCR</th>\n",
       "      <th>SKIMMING_SCR</th>\n",
       "      <th>START_SCR</th>\n",
       "      <th>STOP_SCR</th>\n",
       "      <th>THRGOING_SCR</th>\n",
       "      <th>CR_VETO</th>\n",
       "      <th>OTHER_I3TYPES</th>\n",
       "    </tr>\n",
       "  </thead>\n",
       "  <tbody>\n",
       "    <tr>\n",
       "      <th>0</th>\n",
       "      <td>IC110514A</td>\n",
       "      <td>118178</td>\n",
       "      <td>17334444</td>\n",
       "      <td>2011-05-14 01:32:22.654109</td>\n",
       "      <td>55695.064151</td>\n",
       "      <td>gfu-gold</td>\n",
       "      <td>138.47</td>\n",
       "      <td>-1.94</td>\n",
       "      <td>6.68</td>\n",
       "      <td>3.78</td>\n",
       "      <td>...</td>\n",
       "      <td>187.0</td>\n",
       "      <td>1.30</td>\n",
       "      <td>0.508</td>\n",
       "      <td>3.460000e-07</td>\n",
       "      <td>4.480000e-07</td>\n",
       "      <td>8.110000e-02</td>\n",
       "      <td>4.650000e-05</td>\n",
       "      <td>0.919000</td>\n",
       "      <td>False</td>\n",
       "      <td>NaN</td>\n",
       "    </tr>\n",
       "    <tr>\n",
       "      <th>1</th>\n",
       "      <td>IC110610A</td>\n",
       "      <td>118309</td>\n",
       "      <td>46569873</td>\n",
       "      <td>2011-06-10 10:13:33.147086</td>\n",
       "      <td>55722.426078</td>\n",
       "      <td>gfu-gold</td>\n",
       "      <td>272.55</td>\n",
       "      <td>35.64</td>\n",
       "      <td>1.67</td>\n",
       "      <td>2.42</td>\n",
       "      <td>...</td>\n",
       "      <td>294.0</td>\n",
       "      <td>0.25</td>\n",
       "      <td>0.750</td>\n",
       "      <td>3.370000e-10</td>\n",
       "      <td>3.990000e-11</td>\n",
       "      <td>1.200000e-06</td>\n",
       "      <td>1.290000e-04</td>\n",
       "      <td>1.000000</td>\n",
       "      <td>False</td>\n",
       "      <td>gfu-bronze</td>\n",
       "    </tr>\n",
       "    <tr>\n",
       "      <th>2</th>\n",
       "      <td>IC110616A</td>\n",
       "      <td>118342</td>\n",
       "      <td>24578488</td>\n",
       "      <td>2011-06-16 17:30:53.939961</td>\n",
       "      <td>55728.729791</td>\n",
       "      <td>gfu-bronze</td>\n",
       "      <td>71.15</td>\n",
       "      <td>5.38</td>\n",
       "      <td>1.41</td>\n",
       "      <td>2.07</td>\n",
       "      <td>...</td>\n",
       "      <td>109.0</td>\n",
       "      <td>4.34</td>\n",
       "      <td>0.257</td>\n",
       "      <td>7.820000e-09</td>\n",
       "      <td>1.320000e-07</td>\n",
       "      <td>5.160000e-05</td>\n",
       "      <td>1.830000e-05</td>\n",
       "      <td>1.000000</td>\n",
       "      <td>False</td>\n",
       "      <td>NaN</td>\n",
       "    </tr>\n",
       "    <tr>\n",
       "      <th>3</th>\n",
       "      <td>IC110714A</td>\n",
       "      <td>118435</td>\n",
       "      <td>58198553</td>\n",
       "      <td>2011-07-14 02:42:41.855488</td>\n",
       "      <td>55756.112984</td>\n",
       "      <td>hese-gold</td>\n",
       "      <td>68.20</td>\n",
       "      <td>40.67</td>\n",
       "      <td>0.31</td>\n",
       "      <td>1.10</td>\n",
       "      <td>...</td>\n",
       "      <td>72.0</td>\n",
       "      <td>0.11</td>\n",
       "      <td>0.778</td>\n",
       "      <td>4.330000e-05</td>\n",
       "      <td>1.100000e-05</td>\n",
       "      <td>8.760000e-01</td>\n",
       "      <td>1.810000e-05</td>\n",
       "      <td>0.124000</td>\n",
       "      <td>False</td>\n",
       "      <td>hese-bronze</td>\n",
       "    </tr>\n",
       "    <tr>\n",
       "      <th>4</th>\n",
       "      <td>IC110726A</td>\n",
       "      <td>118475</td>\n",
       "      <td>52691508</td>\n",
       "      <td>2011-07-26 12:15:33.258167</td>\n",
       "      <td>55768.510802</td>\n",
       "      <td>gfu-bronze</td>\n",
       "      <td>151.08</td>\n",
       "      <td>6.99</td>\n",
       "      <td>1.19</td>\n",
       "      <td>1.71</td>\n",
       "      <td>...</td>\n",
       "      <td>160.0</td>\n",
       "      <td>1.92</td>\n",
       "      <td>0.396</td>\n",
       "      <td>5.000000e-02</td>\n",
       "      <td>1.390000e-06</td>\n",
       "      <td>9.460000e-01</td>\n",
       "      <td>2.020000e-04</td>\n",
       "      <td>0.003820</td>\n",
       "      <td>False</td>\n",
       "      <td>NaN</td>\n",
       "    </tr>\n",
       "    <tr>\n",
       "      <th>...</th>\n",
       "      <td>...</td>\n",
       "      <td>...</td>\n",
       "      <td>...</td>\n",
       "      <td>...</td>\n",
       "      <td>...</td>\n",
       "      <td>...</td>\n",
       "      <td>...</td>\n",
       "      <td>...</td>\n",
       "      <td>...</td>\n",
       "      <td>...</td>\n",
       "      <td>...</td>\n",
       "      <td>...</td>\n",
       "      <td>...</td>\n",
       "      <td>...</td>\n",
       "      <td>...</td>\n",
       "      <td>...</td>\n",
       "      <td>...</td>\n",
       "      <td>...</td>\n",
       "      <td>...</td>\n",
       "      <td>...</td>\n",
       "      <td>...</td>\n",
       "    </tr>\n",
       "    <tr>\n",
       "      <th>343</th>\n",
       "      <td>IC230725A</td>\n",
       "      <td>138193</td>\n",
       "      <td>21103478</td>\n",
       "      <td>2023-07-25 21:30:51.063687</td>\n",
       "      <td>60150.896424</td>\n",
       "      <td>gfu-bronze</td>\n",
       "      <td>327.04</td>\n",
       "      <td>12.33</td>\n",
       "      <td>2.20</td>\n",
       "      <td>2.02</td>\n",
       "      <td>...</td>\n",
       "      <td>145.0</td>\n",
       "      <td>1.68</td>\n",
       "      <td>0.394</td>\n",
       "      <td>2.270000e-07</td>\n",
       "      <td>2.180000e-10</td>\n",
       "      <td>1.000000e+00</td>\n",
       "      <td>3.760000e-09</td>\n",
       "      <td>0.000132</td>\n",
       "      <td>False</td>\n",
       "      <td>NaN</td>\n",
       "    </tr>\n",
       "    <tr>\n",
       "      <th>344</th>\n",
       "      <td>IC230727A</td>\n",
       "      <td>138198</td>\n",
       "      <td>44334860</td>\n",
       "      <td>2023-07-27 16:05:39.630288</td>\n",
       "      <td>60152.670598</td>\n",
       "      <td>gfu-bronze</td>\n",
       "      <td>33.66</td>\n",
       "      <td>7.63</td>\n",
       "      <td>1.14</td>\n",
       "      <td>0.70</td>\n",
       "      <td>...</td>\n",
       "      <td>113.0</td>\n",
       "      <td>3.38</td>\n",
       "      <td>0.294</td>\n",
       "      <td>4.880000e-06</td>\n",
       "      <td>9.160000e-10</td>\n",
       "      <td>1.000000e+00</td>\n",
       "      <td>1.080000e-07</td>\n",
       "      <td>0.000053</td>\n",
       "      <td>False</td>\n",
       "      <td>NaN</td>\n",
       "    </tr>\n",
       "    <tr>\n",
       "      <th>345</th>\n",
       "      <td>IC230914A</td>\n",
       "      <td>138354</td>\n",
       "      <td>45413430</td>\n",
       "      <td>2023-09-14 05:21:03.717216</td>\n",
       "      <td>60201.222960</td>\n",
       "      <td>gfu-bronze</td>\n",
       "      <td>163.83</td>\n",
       "      <td>31.83</td>\n",
       "      <td>2.55</td>\n",
       "      <td>2.02</td>\n",
       "      <td>...</td>\n",
       "      <td>168.0</td>\n",
       "      <td>0.88</td>\n",
       "      <td>0.544</td>\n",
       "      <td>2.760000e-13</td>\n",
       "      <td>8.770000e-08</td>\n",
       "      <td>3.220000e-08</td>\n",
       "      <td>2.960000e-07</td>\n",
       "      <td>1.000000</td>\n",
       "      <td>False</td>\n",
       "      <td>NaN</td>\n",
       "    </tr>\n",
       "    <tr>\n",
       "      <th>346</th>\n",
       "      <td>IC231004A</td>\n",
       "      <td>138415</td>\n",
       "      <td>56188508</td>\n",
       "      <td>2023-10-04 14:39:41.180329</td>\n",
       "      <td>60221.610893</td>\n",
       "      <td>gfu-gold</td>\n",
       "      <td>143.79</td>\n",
       "      <td>25.04</td>\n",
       "      <td>1.05</td>\n",
       "      <td>0.97</td>\n",
       "      <td>...</td>\n",
       "      <td>442.0</td>\n",
       "      <td>0.45</td>\n",
       "      <td>0.842</td>\n",
       "      <td>8.750000e-11</td>\n",
       "      <td>1.440000e-08</td>\n",
       "      <td>1.440000e-04</td>\n",
       "      <td>6.870000e-05</td>\n",
       "      <td>1.000000</td>\n",
       "      <td>False</td>\n",
       "      <td>gfu-bronze</td>\n",
       "    </tr>\n",
       "    <tr>\n",
       "      <th>347</th>\n",
       "      <td>IC231014A</td>\n",
       "      <td>138449</td>\n",
       "      <td>20481611</td>\n",
       "      <td>2023-10-14 22:00:06.269328</td>\n",
       "      <td>60231.916739</td>\n",
       "      <td>gfu-bronze</td>\n",
       "      <td>297.16</td>\n",
       "      <td>1.34</td>\n",
       "      <td>2.72</td>\n",
       "      <td>4.57</td>\n",
       "      <td>...</td>\n",
       "      <td>105.0</td>\n",
       "      <td>4.85</td>\n",
       "      <td>0.254</td>\n",
       "      <td>7.880000e-09</td>\n",
       "      <td>1.300000e-06</td>\n",
       "      <td>8.940000e-06</td>\n",
       "      <td>9.410000e-05</td>\n",
       "      <td>1.000000</td>\n",
       "      <td>False</td>\n",
       "      <td>NaN</td>\n",
       "    </tr>\n",
       "  </tbody>\n",
       "</table>\n",
       "<p>348 rows × 22 columns</p>\n",
       "</div>"
      ],
      "text/plain": [
       "          NAME   RUNID   EVENTID                       START      EVENTMJD  \\\n",
       "0    IC110514A  118178  17334444  2011-05-14 01:32:22.654109  55695.064151   \n",
       "1    IC110610A  118309  46569873  2011-06-10 10:13:33.147086  55722.426078   \n",
       "2    IC110616A  118342  24578488  2011-06-16 17:30:53.939961  55728.729791   \n",
       "3    IC110714A  118435  58198553  2011-07-14 02:42:41.855488  55756.112984   \n",
       "4    IC110726A  118475  52691508  2011-07-26 12:15:33.258167  55768.510802   \n",
       "..         ...     ...       ...                         ...           ...   \n",
       "343  IC230725A  138193  21103478  2023-07-25 21:30:51.063687  60150.896424   \n",
       "344  IC230727A  138198  44334860  2023-07-27 16:05:39.630288  60152.670598   \n",
       "345  IC230914A  138354  45413430  2023-09-14 05:21:03.717216  60201.222960   \n",
       "346  IC231004A  138415  56188508  2023-10-04 14:39:41.180329  60221.610893   \n",
       "347  IC231014A  138449  20481611  2023-10-14 22:00:06.269328  60231.916739   \n",
       "\n",
       "         I3TYPE      RA    DEC  RA_ERR_PLUS  RA_ERR_MINUS  ...  ENERGY   FAR  \\\n",
       "0      gfu-gold  138.47  -1.94         6.68          3.78  ...   187.0  1.30   \n",
       "1      gfu-gold  272.55  35.64         1.67          2.42  ...   294.0  0.25   \n",
       "2    gfu-bronze   71.15   5.38         1.41          2.07  ...   109.0  4.34   \n",
       "3     hese-gold   68.20  40.67         0.31          1.10  ...    72.0  0.11   \n",
       "4    gfu-bronze  151.08   6.99         1.19          1.71  ...   160.0  1.92   \n",
       "..          ...     ...    ...          ...           ...  ...     ...   ...   \n",
       "343  gfu-bronze  327.04  12.33         2.20          2.02  ...   145.0  1.68   \n",
       "344  gfu-bronze   33.66   7.63         1.14          0.70  ...   113.0  3.38   \n",
       "345  gfu-bronze  163.83  31.83         2.55          2.02  ...   168.0  0.88   \n",
       "346    gfu-gold  143.79  25.04         1.05          0.97  ...   442.0  0.45   \n",
       "347  gfu-bronze  297.16   1.34         2.72          4.57  ...   105.0  4.85   \n",
       "\n",
       "     SIGNAL   CASCADE_SCR  SKIMMING_SCR     START_SCR      STOP_SCR  \\\n",
       "0     0.508  3.460000e-07  4.480000e-07  8.110000e-02  4.650000e-05   \n",
       "1     0.750  3.370000e-10  3.990000e-11  1.200000e-06  1.290000e-04   \n",
       "2     0.257  7.820000e-09  1.320000e-07  5.160000e-05  1.830000e-05   \n",
       "3     0.778  4.330000e-05  1.100000e-05  8.760000e-01  1.810000e-05   \n",
       "4     0.396  5.000000e-02  1.390000e-06  9.460000e-01  2.020000e-04   \n",
       "..      ...           ...           ...           ...           ...   \n",
       "343   0.394  2.270000e-07  2.180000e-10  1.000000e+00  3.760000e-09   \n",
       "344   0.294  4.880000e-06  9.160000e-10  1.000000e+00  1.080000e-07   \n",
       "345   0.544  2.760000e-13  8.770000e-08  3.220000e-08  2.960000e-07   \n",
       "346   0.842  8.750000e-11  1.440000e-08  1.440000e-04  6.870000e-05   \n",
       "347   0.254  7.880000e-09  1.300000e-06  8.940000e-06  9.410000e-05   \n",
       "\n",
       "     THRGOING_SCR  CR_VETO  OTHER_I3TYPES  \n",
       "0        0.919000    False            NaN  \n",
       "1        1.000000    False     gfu-bronze  \n",
       "2        1.000000    False            NaN  \n",
       "3        0.124000    False    hese-bronze  \n",
       "4        0.003820    False            NaN  \n",
       "..            ...      ...            ...  \n",
       "343      0.000132    False            NaN  \n",
       "344      0.000053    False            NaN  \n",
       "345      1.000000    False            NaN  \n",
       "346      1.000000    False     gfu-bronze  \n",
       "347      1.000000    False            NaN  \n",
       "\n",
       "[348 rows x 22 columns]"
      ]
     },
     "execution_count": 2,
     "metadata": {},
     "output_type": "execute_result"
    }
   ],
   "source": [
    "icecat1"
   ]
  },
  {
   "cell_type": "code",
   "execution_count": 3,
   "id": "2f1647ad-dbce-47a8-ba9c-526055272f80",
   "metadata": {},
   "outputs": [
    {
     "data": {
      "text/plain": [
       "['NAME',\n",
       " 'RUNID',\n",
       " 'EVENTID',\n",
       " 'START',\n",
       " 'EVENTMJD',\n",
       " 'I3TYPE',\n",
       " 'RA',\n",
       " 'DEC',\n",
       " 'RA_ERR_PLUS',\n",
       " 'RA_ERR_MINUS',\n",
       " 'DEC_ERR_PLUS',\n",
       " 'DEC_ERR_MINUS',\n",
       " 'ENERGY',\n",
       " 'FAR',\n",
       " 'SIGNAL',\n",
       " 'CASCADE_SCR',\n",
       " 'SKIMMING_SCR',\n",
       " 'START_SCR',\n",
       " 'STOP_SCR',\n",
       " 'THRGOING_SCR',\n",
       " 'CR_VETO',\n",
       " 'OTHER_I3TYPES']"
      ]
     },
     "execution_count": 3,
     "metadata": {},
     "output_type": "execute_result"
    }
   ],
   "source": [
    "list(x for x in icecat1.columns)"
   ]
  },
  {
   "cell_type": "markdown",
   "id": "19f80fdc-7bca-4c2a-b75c-45071983f2ca",
   "metadata": {},
   "source": [
    "# Let's explain what some of these fields are..."
   ]
  },
  {
   "cell_type": "markdown",
   "id": "7b991be2-6979-43a8-ad46-c5799f8b3063",
   "metadata": {},
   "source": [
    "(**Copied directly from IceCube's documentation**)\n",
    "\n",
    "For each event, the CSV table contains:\n",
    " - RUNID,EVENTID: Unique RunID and EventID combination from IceCube DAQ system\n",
    " - START,EVENTMJD: Date/time of event detection\n",
    ":q\n",
    " - I3TYPE: Identification of event selection type (see supporting paper publication for details).  gfu-gold, gfu-bronze, ehe-gold, hese-gold, or hese-bronze types\n",
    " - OTHER_I3TYPES: List of other I3TYPE event selection types this event additionally passed.\n",
    " - RA,DEC [deg] (and _ERR): Best fit direction in J2000 equatorial coordinates, with asymmetric 90% CL error rectangle boundaries.\n",
    " - ENERGY:[TeV] Most probable neutrino energy that would have produced this event.  Calculated assuming an E^(-2.19) astrophysical neutrino power law flux.\n",
    " - FAR: [yr^(-1)] Rate of background events expected for alert events at this energy and sky location.\n",
    " - SIGNAL: Probability event is of astrophysical origin, calculated assuming an E^(-2.19) astrophysical neutrino power law flux.\n",
    " - *_SCR: Probabilities from post-alert convolutional neural network based classifier applied to each event to  better distinguish each events topological signal in the detector\n",
    "     - THRGOING_SCR: Primary event vertex outside is the detector and a muon-like track is observed passing through the instrumented volume\n",
    "     - START_SCR: Primary event vertex is inside the instrumented volume and a muon-like track is seen\n",
    "     - CASCADE_SCR: Primary event vertex is inside the instrumented volume and a shower (non-muon-like track) is observed\n",
    "     - SKIMMING_SCR: Primary event vertex outside is the detector and little or no energy deposited within instrumented volume\n",
    "     - STOP_SCR: Primary event vertex outside is the detector and a muon-like track is observed stopping in the instrumented volume\n",
    " - CR_VETO [Bool]: Significant in-time cosmic-ray shower activity detected in the surface IceTop array, indicating this event is likely a background event.  \n",
    "     - Note: at time of alert creation this was not available, and therefore events have been evaluated and tagged after fact rather than removed. "
   ]
  },
  {
   "cell_type": "markdown",
   "id": "dfd378e7-949d-4e76-9e7d-1b12d4f38ee3",
   "metadata": {},
   "source": [
    "**An additional note about names**\n",
    "\n",
    "IceCube neutrinos are named in the same way as GRBs:\n",
    "\n",
    "    IC + date of detection + alphabetical order key\n",
    "\n",
    "So the first neutrino detected on 2024 September 01 would be IC240901A, the second would be IC240901B, and so on."
   ]
  },
  {
   "cell_type": "markdown",
   "id": "8435c4ac-b33f-401c-bb78-9aa77d863f34",
   "metadata": {},
   "source": [
    "# Understanding the neutrino alert data"
   ]
  },
  {
   "cell_type": "markdown",
   "id": "82c9b5ad-dc24-48d3-97e5-28cb4f09e119",
   "metadata": {},
   "source": [
    "IceCube's effective area varies as a function of declination, and azimuth. \n",
    "\n",
    "However, because the Earth rotates and IceCube is at the South Pole, azimuthal variations get smoothed out over time. Zenith variations do not. \n",
    "\n",
    "**TLDR: the IC effective area does not vary as a function of Right Ascension on the sky, but varies a lot with declination.**"
   ]
  },
  {
   "cell_type": "code",
   "execution_count": 4,
   "id": "a5f6f6c7-850b-4a4f-9e83-a8cca56d9189",
   "metadata": {},
   "outputs": [
    {
     "data": {
      "text/plain": [
       "Text(0.5, 0, 'Sin(declination)')"
      ]
     },
     "execution_count": 4,
     "metadata": {},
     "output_type": "execute_result"
    },
    {
     "data": {
      "image/png": "[encoded data removed]",
      "text/plain": [
       "<Figure size 640x480 with 1 Axes>"
      ]
     },
     "metadata": {},
     "output_type": "display_data"
    }
   ],
   "source": [
    "plt.hist(np.sin(np.radians(icecat1[\"DEC\"]))) # Sin(dec) not dec to account for projection effects for a sphere\n",
    "plt.xlabel(\"Sin(declination)\")"
   ]
  },
  {
   "cell_type": "code",
   "execution_count": 5,
   "id": "b5f4e82e-b501-415b-98db-3f83526679f8",
   "metadata": {},
   "outputs": [
    {
     "data": {
      "text/plain": [
       "Text(0.5, 0, 'Right Ascension [degrees]')"
      ]
     },
     "execution_count": 5,
     "metadata": {},
     "output_type": "execute_result"
    },
    {
     "data": {
      "image/png": "[encoded data removed]",
      "text/plain": [
       "<Figure size 640x480 with 1 Axes>"
      ]
     },
     "metadata": {},
     "output_type": "display_data"
    }
   ],
   "source": [
    "plt.hist(icecat1[\"RA\"])\n",
    "plt.xlabel(\"Right Ascension [degrees]\")"
   ]
  },
  {
   "cell_type": "markdown",
   "id": "beed15a6-7e2a-4600-b175-87dac022b398",
   "metadata": {},
   "source": [
    "# Augmenting Neutrino Data"
   ]
  },
  {
   "cell_type": "markdown",
   "id": "a208aa8c-29cc-49f0-805f-da2ee881681a",
   "metadata": {},
   "source": [
    "## Localisation Area"
   ]
  },
  {
   "cell_type": "code",
   "execution_count": 6,
   "id": "527f9a31-86bc-4287-83d3-7b522f7f8f1c",
   "metadata": {},
   "outputs": [],
   "source": [
    "# Let's approximate the localisation from IceCube as a rectangle. \n",
    "# The full contour is not always Gaussian, and is not released in real time, so often a rectangle is best.\n",
    "\n",
    "area = (\n",
    "    (icecat1[\"RA_ERR_PLUS\"] + icecat1[\"RA_ERR_MINUS\"])  # Width in RA\n",
    "    * (icecat1[\"DEC_ERR_PLUS\"] + icecat1[\"DEC_ERR_MINUS\"]) # Width in Dec\n",
    "    * abs(np.cos(np.radians(icecat1[\"DEC\"]))) # Approximately account for projection\n",
    ")\n",
    "icecat1[\"AREA\"] = area"
   ]
  },
  {
   "cell_type": "code",
   "execution_count": 7,
   "id": "17a91798-b7df-44da-a569-87e19a1a9d4b",
   "metadata": {},
   "outputs": [
    {
     "name": "stdout",
     "output_type": "stream",
     "text": [
      "Median neutrino area is 7.7 sq. deg, mean is 25.9\n"
     ]
    }
   ],
   "source": [
    "print(f'Median neutrino area is {icecat1[\"AREA\"].median():.1f} sq. deg, mean is {icecat1[\"AREA\"].mean():.1f}')"
   ]
  },
  {
   "cell_type": "code",
   "execution_count": 8,
   "id": "66e87653-e1c8-4eff-9ea9-0cae046b562c",
   "metadata": {},
   "outputs": [
    {
     "data": {
      "text/plain": [
       "([<matplotlib.axis.XTick at 0x1086850d0>,\n",
       "  <matplotlib.axis.XTick at 0x108672d10>,\n",
       "  <matplotlib.axis.XTick at 0x1086704d0>,\n",
       "  <matplotlib.axis.XTick at 0x107603490>,\n",
       "  <matplotlib.axis.XTick at 0x1086c4210>],\n",
       " [Text(-1.0, 0, '0.1'),\n",
       "  Text(0.0, 0, '1.0'),\n",
       "  Text(1.0, 0, '10.0'),\n",
       "  Text(2.0, 0, '100.0'),\n",
       "  Text(3.0, 0, '1000.0')])"
      ]
     },
     "execution_count": 8,
     "metadata": {},
     "output_type": "execute_result"
    },
    {
     "data": {
      "image/png": "[encoded data removed]",
      "text/plain": [
       "<Figure size 640x480 with 1 Axes>"
      ]
     },
     "metadata": {},
     "output_type": "display_data"
    }
   ],
   "source": [
    "plt.hist(np.log10(icecat1[\"AREA\"]))\n",
    "plt.xlabel(\"Area [sq deg]\")\n",
    "x_ticks = np.logspace(-1, 3, 5) # Convert labels from log\n",
    "plt.xticks(np.log10(x_ticks), x_ticks)"
   ]
  },
  {
   "cell_type": "markdown",
   "id": "f2184848-cbff-4e8b-b1d1-1f732b4a35b1",
   "metadata": {},
   "source": [
    "The neutrino localisations vary dramatically. The median is ~8 sq deg, but some have localisations > 100 sq deg. \n",
    "This is due to the topology of each event, with some neutrinos being much easier to reconstruct than others. The probability that an object accidentally coincides with a neutrino is much higher for large neutrinos. "
   ]
  },
  {
   "cell_type": "markdown",
   "id": "8baab604-9e39-463d-9a40-7bdb21340629",
   "metadata": {},
   "source": [
    "## Galactic Latitude"
   ]
  },
  {
   "cell_type": "code",
   "execution_count": 17,
   "id": "7d45c7cf-19b0-4538-b980-0a514510f723",
   "metadata": {},
   "outputs": [],
   "source": [
    "# Let's use astropy to work out the galactic coordinates of these neutrinos\n",
    "c = SkyCoord(icecat1[\"RA\"], icecat1[\"DEC\"], unit=\"deg\")\n",
    "\n",
    "icecat1[\"GALL\"] = c.galactic.l.value\n",
    "icecat1[\"GALB\"] = c.galactic.b.value"
   ]
  },
  {
   "cell_type": "markdown",
   "id": "54ac8c9b-31ea-472a-ac70-8cd0ebb09d66",
   "metadata": {},
   "source": [
    "## Distance to Sun (because most telescopes don't work during the day!)"
   ]
  },
  {
   "cell_type": "code",
   "execution_count": 18,
   "id": "c430d05d-22b1-41b1-b90b-85b6831b5383",
   "metadata": {},
   "outputs": [
    {
     "name": "stderr",
     "output_type": "stream",
     "text": [
      "WARNING: NonRotationTransformationWarning: transforming other coordinates from <GCRS Frame (obstime=[55695.06415109 55722.42607809 55728.72979097 55756.11298444\n",
      " 55768.5108016  55780.97970435 55791.68864321 55806.09220291\n",
      " 55811.79461555 55833.26046549 55834.44513647 55846.86687056\n",
      " 55885.96104032 55885.9733547  55903.71892797 55904.4569016\n",
      " 55908.39772382 55911.27685053 55913.33542794 55987.80691329\n",
      " 56043.41532672 56048.5704209  56062.95901934 56070.5742824\n",
      " 56070.63865189 56076.54294701 56079.30557153 56083.65455899\n",
      " 56089.36416965 56146.20714664 56186.30530487 56192.54933227\n",
      " 56211.77094169 56226.59949622 56234.50752072 56246.33035013\n",
      " 56317.2657123  56317.65900655 56319.27998865 56331.12141218\n",
      " 56367.73599256 56369.28453777 56390.18877428 56390.75835433\n",
      " 56391.98239268 56420.64119744 56421.18583123 56431.48285382\n",
      " 56443.55692495 56470.11039111 56470.42590148 56484.52983356\n",
      " 56504.07237014 56505.25626841 56508.81461902 56512.33958627\n",
      " 56526.40856501 56542.79309917 56579.9092108  56588.55850593\n",
      " 56604.55261167 56608.03124344 56620.1450545  56630.47007245\n",
      " 56658.40386364 56660.88576485 56665.30789703 56666.5029862\n",
      " 56671.87788784 56679.14747345 56679.20447983 56691.78513353\n",
      " 56701.80908625 56711.92014366 56723.92001535 56740.08928629\n",
      " 56757.09875663 56758.56676567 56767.85935513 56780.95701619\n",
      " 56811.14246655 56817.63639386 56819.20444853 56842.2977754\n",
      " 56843.66869305 56845.49980613 56851.55657844 56859.7588334\n",
      " 56889.37804694 56923.72110249 56927.16084624 56942.75086742\n",
      " 56971.29675779 56975.25687204 56999.66839927 57001.84777231\n",
      " 57012.41025006 57024.79626015 57026.39897077 57040.50945469\n",
      " 57041.36873106 57042.9846634  57049.48125163 57051.22743861\n",
      " 57077.99961384 57094.3205772  57140.5907841  57157.94156141\n",
      " 57168.01697966 57174.01819278 57182.02652179 57182.18015403\n",
      " 57198.63994561 57198.73160684 57217.9097164  57243.32199464\n",
      " 57246.31776017 57246.75908975 57257.62259728 57265.21781543\n",
      " 57269.75966082 57279.87493401 57283.54571304 57284.20566485\n",
      " 57288.02679078 57291.90119022 57308.12441299 57312.67572957\n",
      " 57340.87348406 57348.53160958 57391.44384331 57415.18345819\n",
      " 57443.88039407 57454.69665796 57478.56517147 57488.73450279\n",
      " 57505.2448176  57518.66395275 57551.43429291 57553.52619622\n",
      " 57554.40430996 57576.16797172 57589.91352792 57596.34413697\n",
      " 57600.07990203 57600.78487911 57606.514963   57612.68415339\n",
      " 57614.90687587 57655.74106665 57662.43916514 57673.61257693\n",
      " 57682.30923513 57688.56969003 57695.38022137 57709.33199321\n",
      " 57717.43014382 57719.66475003 57732.8379666  57746.53736345\n",
      " 57758.14192254 57790.54898659 57792.12812411 57792.59523275\n",
      " 57811.06487576 57820.92487656 57833.31412845 57865.6457082\n",
      " 57870.31372715 57887.17462612 57887.30015095 57900.06963859\n",
      " 57925.19120971 57930.51931611 57938.2926024  57951.81765905\n",
      " 57968.0838478  57974.59705961 57984.27580422 57989.5537508\n",
      " 58018.8711856  58019.02130038 58032.30780851 58041.06562576\n",
      " 58054.76477464 58063.7775372  58065.75475047 58135.7522056\n",
      " 58141.67706745 58143.97573522 58154.00422027 58162.37782304\n",
      " 58177.57240411 58190.67858045 58191.80396383 58193.24266207\n",
      " 58218.77679462 58225.27851266 58266.50625455 58277.59689648\n",
      " 58281.19039701 58282.98236039 58327.84471314 58337.20231338\n",
      " 58369.8330075  58370.60418386 58380.06513012 58399.77940579\n",
      " 58405.49466518 58414.69273903 58414.73594512 58436.94464815\n",
      " 58442.70870605 58442.94364599 58443.57996791 58464.08522982\n",
      " 58496.0885274  58507.15549528 58515.01567126 58528.67267812\n",
      " 58535.35115416 58537.85004746 58559.83187811 58583.4363381\n",
      " 58586.44998255 58586.66460083 58588.43730677 58595.2497925\n",
      " 58606.72440657 58607.767574   58618.45061141 58647.82937646\n",
      " 58653.55159778 58663.80850834 58668.78393813 58676.05228457\n",
      " 58694.86853369 58714.73222496 58748.40469478 58748.96105979\n",
      " 58757.83979368 58806.04270119 58809.94803815 58821.94874207\n",
      " 58832.46525037 58848.45840369 58857.98726781 58865.46423253\n",
      " 58868.78354813 58949.97217002 58960.02458612 58964.97692534\n",
      " 58981.31351573 58992.10425457 58999.32950733 59014.52872013\n",
      " 59015.61756223 59020.12745697 59067.57704207 59103.59706286\n",
      " 59108.86146941 59113.79667701 59118.32930117 59118.94131052\n",
      " 59121.74209305 59129.91793156 59136.09267977 59143.27624402\n",
      " 59167.62884218 59168.08849784 59173.40602496 59183.84845458\n",
      " 59192.42759194 59204.52561869 59205.03907575 59255.49578294\n",
      " 59337.9302426  59344.20151318 59350.6099576  59373.15348351\n",
      " 59394.75676187 59412.65623959 59425.92547025 59437.08523192\n",
      " 59479.76204801 59510.35507312 59534.43976913 59535.16038407\n",
      " 59541.6009561  59543.26552727 59556.83531356 59564.29696919\n",
      " 59564.98696689 59594.50809901 59612.4921133  59615.01573773\n",
      " 59615.83901146 59631.02938795 59635.59167459 59641.75008822\n",
      " 59642.73903025 59644.15737347 59655.10576022 59674.20655227\n",
      " 59674.93059506 59690.22243354 59693.04611185 59694.11455806\n",
      " 59700.95206754 59708.76324209 59712.97445146 59723.3205114\n",
      " 59754.67588432 59757.74437819 59759.99411682 59813.85173646\n",
      " 59829.2824944  59840.53200605 59850.52266551 59887.25703913\n",
      " 59907.65697071 59923.35776897 59929.25016224 59936.3215338\n",
      " 59937.03830198 59942.30935051 59956.28114125 59966.15974538\n",
      " 59976.26451877 59992.86786314 59995.318875   60009.4579909\n",
      " 60035.67660772 60039.55578756 60050.22391378 60070.66233724\n",
      " 60075.75266325 60088.46500288 60098.20887882 60132.70752356\n",
      " 60132.78948421 60133.3451992  60149.0758493  60150.89642435\n",
      " 60152.67059757 60201.22295969 60221.61089329 60231.91673923], obsgeoloc=(0., 0., 0.) m, obsgeovel=(0., 0., 0.) m / s)> to <ICRS Frame>. Angular separation can depend on the direction of the transformation. [astropy.coordinates.baseframe]\n"
     ]
    }
   ],
   "source": [
    "times = Time(icecat1[\"EVENTMJD\"], format=\"mjd\") # Time of each event\n",
    "\n",
    "sun_positions = get_sun(times) # Position of sun at each time\n",
    "sun_positions\n",
    "\n",
    "separation = c.separation(sun_positions).value  # Angle between the sun and each neutrino (approximately, since it depends where you are on Earth!)\n",
    "icecat1[\"SUNDIST\"] = separation"
   ]
  },
  {
   "cell_type": "code",
   "execution_count": 23,
   "id": "ac6c08df-ee17-48b6-83c2-c0fca69708df",
   "metadata": {},
   "outputs": [
    {
     "name": "stdout",
     "output_type": "stream",
     "text": [
      "Selected 153 neutrinos out of 348 total neutrinos\n"
     ]
    }
   ],
   "source": [
    "# We can make some basic cuts:\n",
    "\n",
    "mask = (\n",
    "    (~icecat1[\"CR_VETO\"].astype(bool))  # Is the neutrino alert coincident with a cosmic ray air shower? If so, likely background.\n",
    "    & (abs(icecat1[\"GALB\"]) > 10.) # Is the neutrino extra-galatic? (EM telescopes can't see through the Milky Way!)\n",
    "    & (icecat1[\"SUNDIST\"] > 60.) # Is the neutrino far enough from the sun for simultaneous EM coverage?\n",
    "    & (icecat1[\"AREA\"] < 30.) # Is the neutrino localisation reasonably small?\n",
    ")\n",
    "\n",
    "print(f\"Selected {mask.sum()} neutrinos out of {len(mask)} total neutrinos\")"
   ]
  },
  {
   "cell_type": "code",
   "execution_count": 12,
   "id": "6009a101-cef4-4829-a6b9-f4b45d5fb817",
   "metadata": {},
   "outputs": [],
   "source": [
    "# Cut on distance to sun\n",
    "# Cut on galactic latitude"
   ]
  }
 ],
 "metadata": {
  "kernelspec": {
   "display_name": "nuclassenv",
   "language": "python",
   "name": "nuclassenv"
  },
  "language_info": {
   "codemirror_mode": {
    "name": "ipython",
    "version": 3
   },
   "file_extension": ".py",
   "mimetype": "text/x-python",
   "name": "python",
   "nbconvert_exporter": "python",
   "pygments_lexer": "ipython3",
   "version": "3.11.9"
  }
 },
 "nbformat": 4,
 "nbformat_minor": 5
}

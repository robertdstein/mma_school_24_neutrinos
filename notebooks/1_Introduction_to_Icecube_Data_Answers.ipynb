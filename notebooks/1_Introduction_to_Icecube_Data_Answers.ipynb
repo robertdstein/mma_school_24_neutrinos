{
 "cells": [
  {
   "cell_type": "code",
   "execution_count": null,
   "id": "b577ebfc-0ad5-4b54-9308-29ac08759184",
   "metadata": {},
   "outputs": [],
   "source": [
    "%matplotlib\n",
    "import matplotlib.pyplot as plt\n",
    "import numpy as np\n",
    "from nuclass.data import icecat1, icecat1_cut_path\n",
    "from astropy.coordinates import SkyCoord, get_sun\n",
    "from astropy.time import Time"
   ]
  },
  {
   "cell_type": "markdown",
   "id": "bcced16a-bc57-43b9-9f83-e76f3ee9f7fe",
   "metadata": {},
   "source": [
    "# Neutrino Data"
   ]
  },
  {
   "cell_type": "markdown",
   "id": "84f9b745-1f4d-4053-bb12-ae858bf76151",
   "metadata": {},
   "source": [
    " We use a catalogue of high-energy neutrinos from IceCuce known as ICECAT1.\n",
    "The catalogue is downloaded from, and described at https://icecube.wisc.edu/data-releases/2023/04/icecat-1-the-icecube-event-catalog-of-alert-tracks/ . It contains neutrinos through to the end of 2023.\n",
    "\n",
    "You can find the latest list of neutrino alerts on the GCN page https://gcn.gsfc.nasa.gov/amon_icecube_gold_bronze_events.html , and sign up to receive notifications or access via API."
   ]
  },
  {
   "cell_type": "code",
   "execution_count": null,
   "id": "49d847ee-c994-4689-9773-7696c8ce0558",
   "metadata": {
    "scrolled": true
   },
   "outputs": [],
   "source": [
    "icecat1"
   ]
  },
  {
   "cell_type": "code",
   "execution_count": null,
   "id": "2f1647ad-dbce-47a8-ba9c-526055272f80",
   "metadata": {
    "scrolled": true
   },
   "outputs": [],
   "source": [
    "list(x for x in icecat1.columns)"
   ]
  },
  {
   "cell_type": "markdown",
   "id": "19f80fdc-7bca-4c2a-b75c-45071983f2ca",
   "metadata": {},
   "source": [
    "# Let's explain what some of these fields are..."
   ]
  },
  {
   "cell_type": "markdown",
   "id": "7b991be2-6979-43a8-ad46-c5799f8b3063",
   "metadata": {},
   "source": [
    "(**Copied directly from IceCube's documentation**)\n",
    "\n",
    "For each event, the CSV table contains:\n",
    " - RUNID,EVENTID: Unique RunID and EventID combination from IceCube DAQ system\n",
    " - START,EVENTMJD: Date/time of event detection\n",
    ":q\n",
    " - I3TYPE: Identification of event selection type (see supporting paper publication for details).  gfu-gold, gfu-bronze, ehe-gold, hese-gold, or hese-bronze types\n",
    " - OTHER_I3TYPES: List of other I3TYPE event selection types this event additionally passed.\n",
    " - RA,DEC [deg] (and _ERR): Best fit direction in J2000 equatorial coordinates, with asymmetric 90% CL error rectangle boundaries.\n",
    " - ENERGY:[TeV] Most probable neutrino energy that would have produced this event.  Calculated assuming an E^(-2.19) astrophysical neutrino power law flux.\n",
    " - FAR: [yr^(-1)] Rate of background events expected for alert events at this energy and sky location.\n",
    " - SIGNAL: Probability event is of astrophysical origin, calculated assuming an E^(-2.19) astrophysical neutrino power law flux.\n",
    " - *_SCR: Probabilities from post-alert convolutional neural network based classifier applied to each event to  better distinguish each events topological signal in the detector\n",
    "     - THRGOING_SCR: Primary event vertex outside is the detector and a muon-like track is observed passing through the instrumented volume\n",
    "     - START_SCR: Primary event vertex is inside the instrumented volume and a muon-like track is seen\n",
    "     - CASCADE_SCR: Primary event vertex is inside the instrumented volume and a shower (non-muon-like track) is observed\n",
    "     - SKIMMING_SCR: Primary event vertex outside is the detector and little or no energy deposited within instrumented volume\n",
    "     - STOP_SCR: Primary event vertex outside is the detector and a muon-like track is observed stopping in the instrumented volume\n",
    " - CR_VETO [Bool]: Significant in-time cosmic-ray shower activity detected in the surface IceTop array, indicating this event is likely a background event.  \n",
    "     - Note: at time of alert creation this was not available, and therefore events have been evaluated and tagged after fact rather than removed. "
   ]
  },
  {
   "cell_type": "markdown",
   "id": "dfd378e7-949d-4e76-9e7d-1b12d4f38ee3",
   "metadata": {},
   "source": [
    "**An additional note about names**\n",
    "\n",
    "IceCube neutrinos are named in the same way as GRBs:\n",
    "\n",
    "    IC + date of detection + alphabetical order key\n",
    "\n",
    "So the first neutrino detected on 2024 September 01 would be IC240901A, the second would be IC240901B, and so on."
   ]
  },
  {
   "cell_type": "markdown",
   "id": "8435c4ac-b33f-401c-bb78-9aa77d863f34",
   "metadata": {},
   "source": [
    "# Understanding the neutrino alert data"
   ]
  },
  {
   "cell_type": "markdown",
   "id": "82c9b5ad-dc24-48d3-97e5-28cb4f09e119",
   "metadata": {},
   "source": [
    "IceCube's effective area varies as a function of declination, and azimuth. \n",
    "\n",
    "However, because the Earth rotates and IceCube is at the South Pole, azimuthal variations get smoothed out over time. Zenith variations do not. "
   ]
  },
  {
   "cell_type": "code",
   "execution_count": null,
   "id": "a5f6f6c7-850b-4a4f-9e83-a8cca56d9189",
   "metadata": {},
   "outputs": [],
   "source": [
    "# Plot the distribution of alerts as a function of sin(declination). Is it uniform?\n",
    "\n",
    "# Remember to convert from degrees to radians first!\n",
    "sindecs = # Your answer goes here!!!\n",
    "\n",
    "plt.hist(sindecs) # Sin(dec) not dec to account for projection effects for a sphere\n",
    "\n",
    "# Plot median, and 25th/75th percentile \n",
    "for val in [25, 50., 75.]:\n",
    "    plt.axvline(np.percentile(sindecs, val, axis=0), linestyle=\":\", color=\"k\")\n",
    "\n",
    "plt.xlabel(\"Sin(declination)\")\n",
    "plt.xlim(-1., 1.)"
   ]
  },
  {
   "cell_type": "code",
   "execution_count": null,
   "id": "b5f4e82e-b501-415b-98db-3f83526679f8",
   "metadata": {},
   "outputs": [],
   "source": [
    "# Plot RA, is it uniform?"
   ]
  },
  {
   "cell_type": "markdown",
   "id": "beed15a6-7e2a-4600-b175-87dac022b398",
   "metadata": {},
   "source": [
    "# Augmenting Neutrino Data"
   ]
  },
  {
   "cell_type": "markdown",
   "id": "a208aa8c-29cc-49f0-805f-da2ee881681a",
   "metadata": {},
   "source": [
    "## Localisation Area"
   ]
  },
  {
   "cell_type": "code",
   "execution_count": null,
   "id": "527f9a31-86bc-4287-83d3-7b522f7f8f1c",
   "metadata": {},
   "outputs": [],
   "source": [
    "# Let's approximate the localisation from IceCube as a rectangle. \n",
    "# The true contour is not always Gaussian/elliptical, and is not released in real time.\n",
    "# Generally the simplest thing is to just take the rectangle at face value.\n",
    "\n",
    "# What is the area of each alert? Remember to account for projection on a sphere - https://en.wikipedia.org/wiki/Great-circle_distance\n",
    "\n",
    "area = # Your answer goes here\n",
    "\n",
    "icecat1[\"AREA\"] = area"
   ]
  },
  {
   "cell_type": "code",
   "execution_count": null,
   "id": "17a91798-b7df-44da-a569-87e19a1a9d4b",
   "metadata": {},
   "outputs": [],
   "source": [
    "# What is the median localisation?\n",
    "print(f'Median neutrino area is {icecat1[\"AREA\"].median():.1f} sq. deg, mean is {icecat1[\"AREA\"].mean():.1f}')"
   ]
  },
  {
   "cell_type": "code",
   "execution_count": null,
   "id": "66e87653-e1c8-4eff-9ea9-0cae046b562c",
   "metadata": {},
   "outputs": [],
   "source": [
    "# Plot histogram of areas\n",
    "plt.hist(np.log10(icecat1[\"AREA\"]))\n",
    "plt.xlabel(\"Area [sq deg]\")\n",
    "x_ticks = np.logspace(-1, 3, 5) # Convert labels from log\n",
    "plt.xticks(np.log10(x_ticks), x_ticks)\n",
    "plt.axvline(np.log10(icecat1[\"AREA\"].median()), color=\"k\", linestyle=\":\")"
   ]
  },
  {
   "cell_type": "markdown",
   "id": "f2184848-cbff-4e8b-b1d1-1f732b4a35b1",
   "metadata": {},
   "source": [
    "The neutrino localisations vary dramatically. The median is ~8 sq deg, but some have localisations > 100 sq deg. \n",
    "This is due to the topology of each event, with some neutrinos being much easier to reconstruct than others. The probability that an object accidentally coincides with a neutrino is much higher for large neutrinos. "
   ]
  },
  {
   "cell_type": "code",
   "execution_count": null,
   "id": "ac6c08df-ee17-48b6-83c2-c0fca69708df",
   "metadata": {},
   "outputs": [],
   "source": [
    "# Now make some basic cuts to select \"high-quality alerts\"\n",
    "\n",
    "mask = (\n",
    "    # Your answer goes here!!!\n",
    "    # Cut to remove CR-coincident events\n",
    "    # Cut those events with large area (< 35 sq. deg.)\n",
    "    # Cut those events with signal probability < 50%\n",
    ")\n",
    "\n",
    "print(f\"Selected {mask.sum()} neutrinos out of {len(mask)} total neutrinos\")"
   ]
  },
  {
   "cell_type": "code",
   "execution_count": null,
   "id": "3f0fa7a1-d199-471b-944e-878a4506265c",
   "metadata": {},
   "outputs": [],
   "source": [
    "icecat1[mask].to_csv(icecat1_cut_path)"
   ]
  },
  {
   "cell_type": "code",
   "execution_count": null,
   "id": "522f43a1-6793-4ad8-aaef-ccca54552d96",
   "metadata": {},
   "outputs": [],
   "source": []
  }
 ],
 "metadata": {
  "kernelspec": {
   "display_name": "nuclassenv",
   "language": "python",
   "name": "nuclassenv"
  },
  "language_info": {
   "codemirror_mode": {
    "name": "ipython",
    "version": 3
   },
   "file_extension": ".py",
   "mimetype": "text/x-python",
   "name": "python",
   "nbconvert_exporter": "python",
   "pygments_lexer": "ipython3",
   "version": "3.11.9"
  }
 },
 "nbformat": 4,
 "nbformat_minor": 5
}

{
 "cells": [
  {
   "cell_type": "code",
   "execution_count": 1,
   "id": "b577ebfc-0ad5-4b54-9308-29ac08759184",
   "metadata": {},
   "outputs": [
    {
     "name": "stdout",
     "output_type": "stream",
     "text": [
      "Using matplotlib backend: module://matplotlib_inline.backend_inline\n"
     ]
    }
   ],
   "source": [
    "%matplotlib\n",
    "import matplotlib.pyplot as plt\n",
    "import numpy as np\n",
    "from nuclass.data import icecat1, icecat1_cut_path\n",
    "from astropy.coordinates import SkyCoord, get_sun\n",
    "from astropy.time import Time"
   ]
  },
  {
   "cell_type": "markdown",
   "id": "bcced16a-bc57-43b9-9f83-e76f3ee9f7fe",
   "metadata": {},
   "source": [
    "# Neutrino Data"
   ]
  },
  {
   "cell_type": "markdown",
   "id": "84f9b745-1f4d-4053-bb12-ae858bf76151",
   "metadata": {},
   "source": [
    " We use a catalogue of high-energy neutrinos from IceCuce known as ICECAT1.\n",
    "The catalogue is downloaded from, and described at https://icecube.wisc.edu/data-releases/2023/04/icecat-1-the-icecube-event-catalog-of-alert-tracks/ . It contains neutrinos through to the end of 2023.\n",
    "\n",
    "You can find the latest list of neutrino alerts on the GCN page https://gcn.gsfc.nasa.gov/amon_icecube_gold_bronze_events.html , and sign up to receive notifications or access via API."
   ]
  },
  {
   "cell_type": "code",
   "execution_count": 2,
   "id": "49d847ee-c994-4689-9773-7696c8ce0558",
   "metadata": {
    "scrolled": true
   },
   "outputs": [
    {
     "data": {
      "text/html": [
       "<div>\n",
       "<style scoped>\n",
       "    .dataframe tbody tr th:only-of-type {\n",
       "        vertical-align: middle;\n",
       "    }\n",
       "\n",
       "    .dataframe tbody tr th {\n",
       "        vertical-align: top;\n",
       "    }\n",
       "\n",
       "    .dataframe thead th {\n",
       "        text-align: right;\n",
       "    }\n",
       "</style>\n",
       "<table border=\"1\" class=\"dataframe\">\n",
       "  <thead>\n",
       "    <tr style=\"text-align: right;\">\n",
       "      <th></th>\n",
       "      <th>NAME</th>\n",
       "      <th>RUNID</th>\n",
       "      <th>EVENTID</th>\n",
       "      <th>START</th>\n",
       "      <th>EVENTMJD</th>\n",
       "      <th>I3TYPE</th>\n",
       "      <th>RA</th>\n",
       "      <th>DEC</th>\n",
       "      <th>RA_ERR_PLUS</th>\n",
       "      <th>RA_ERR_MINUS</th>\n",
       "      <th>...</th>\n",
       "      <th>ENERGY</th>\n",
       "      <th>FAR</th>\n",
       "      <th>SIGNAL</th>\n",
       "      <th>CASCADE_SCR</th>\n",
       "      <th>SKIMMING_SCR</th>\n",
       "      <th>START_SCR</th>\n",
       "      <th>STOP_SCR</th>\n",
       "      <th>THRGOING_SCR</th>\n",
       "      <th>CR_VETO</th>\n",
       "      <th>OTHER_I3TYPES</th>\n",
       "    </tr>\n",
       "  </thead>\n",
       "  <tbody>\n",
       "    <tr>\n",
       "      <th>0</th>\n",
       "      <td>IC110514A</td>\n",
       "      <td>118178</td>\n",
       "      <td>17334444</td>\n",
       "      <td>2011-05-14 01:32:22.654109</td>\n",
       "      <td>55695.064151</td>\n",
       "      <td>gfu-gold</td>\n",
       "      <td>138.47</td>\n",
       "      <td>-1.94</td>\n",
       "      <td>6.68</td>\n",
       "      <td>3.78</td>\n",
       "      <td>...</td>\n",
       "      <td>187.0</td>\n",
       "      <td>1.30</td>\n",
       "      <td>0.508</td>\n",
       "      <td>3.460000e-07</td>\n",
       "      <td>4.480000e-07</td>\n",
       "      <td>8.110000e-02</td>\n",
       "      <td>4.650000e-05</td>\n",
       "      <td>0.919000</td>\n",
       "      <td>False</td>\n",
       "      <td>NaN</td>\n",
       "    </tr>\n",
       "    <tr>\n",
       "      <th>1</th>\n",
       "      <td>IC110610A</td>\n",
       "      <td>118309</td>\n",
       "      <td>46569873</td>\n",
       "      <td>2011-06-10 10:13:33.147086</td>\n",
       "      <td>55722.426078</td>\n",
       "      <td>gfu-gold</td>\n",
       "      <td>272.55</td>\n",
       "      <td>35.64</td>\n",
       "      <td>1.67</td>\n",
       "      <td>2.42</td>\n",
       "      <td>...</td>\n",
       "      <td>294.0</td>\n",
       "      <td>0.25</td>\n",
       "      <td>0.750</td>\n",
       "      <td>3.370000e-10</td>\n",
       "      <td>3.990000e-11</td>\n",
       "      <td>1.200000e-06</td>\n",
       "      <td>1.290000e-04</td>\n",
       "      <td>1.000000</td>\n",
       "      <td>False</td>\n",
       "      <td>gfu-bronze</td>\n",
       "    </tr>\n",
       "    <tr>\n",
       "      <th>2</th>\n",
       "      <td>IC110616A</td>\n",
       "      <td>118342</td>\n",
       "      <td>24578488</td>\n",
       "      <td>2011-06-16 17:30:53.939961</td>\n",
       "      <td>55728.729791</td>\n",
       "      <td>gfu-bronze</td>\n",
       "      <td>71.15</td>\n",
       "      <td>5.38</td>\n",
       "      <td>1.41</td>\n",
       "      <td>2.07</td>\n",
       "      <td>...</td>\n",
       "      <td>109.0</td>\n",
       "      <td>4.34</td>\n",
       "      <td>0.257</td>\n",
       "      <td>7.820000e-09</td>\n",
       "      <td>1.320000e-07</td>\n",
       "      <td>5.160000e-05</td>\n",
       "      <td>1.830000e-05</td>\n",
       "      <td>1.000000</td>\n",
       "      <td>False</td>\n",
       "      <td>NaN</td>\n",
       "    </tr>\n",
       "    <tr>\n",
       "      <th>3</th>\n",
       "      <td>IC110714A</td>\n",
       "      <td>118435</td>\n",
       "      <td>58198553</td>\n",
       "      <td>2011-07-14 02:42:41.855488</td>\n",
       "      <td>55756.112984</td>\n",
       "      <td>hese-gold</td>\n",
       "      <td>68.20</td>\n",
       "      <td>40.67</td>\n",
       "      <td>0.31</td>\n",
       "      <td>1.10</td>\n",
       "      <td>...</td>\n",
       "      <td>72.0</td>\n",
       "      <td>0.11</td>\n",
       "      <td>0.778</td>\n",
       "      <td>4.330000e-05</td>\n",
       "      <td>1.100000e-05</td>\n",
       "      <td>8.760000e-01</td>\n",
       "      <td>1.810000e-05</td>\n",
       "      <td>0.124000</td>\n",
       "      <td>False</td>\n",
       "      <td>hese-bronze</td>\n",
       "    </tr>\n",
       "    <tr>\n",
       "      <th>4</th>\n",
       "      <td>IC110726A</td>\n",
       "      <td>118475</td>\n",
       "      <td>52691508</td>\n",
       "      <td>2011-07-26 12:15:33.258167</td>\n",
       "      <td>55768.510802</td>\n",
       "      <td>gfu-bronze</td>\n",
       "      <td>151.08</td>\n",
       "      <td>6.99</td>\n",
       "      <td>1.19</td>\n",
       "      <td>1.71</td>\n",
       "      <td>...</td>\n",
       "      <td>160.0</td>\n",
       "      <td>1.92</td>\n",
       "      <td>0.396</td>\n",
       "      <td>5.000000e-02</td>\n",
       "      <td>1.390000e-06</td>\n",
       "      <td>9.460000e-01</td>\n",
       "      <td>2.020000e-04</td>\n",
       "      <td>0.003820</td>\n",
       "      <td>False</td>\n",
       "      <td>NaN</td>\n",
       "    </tr>\n",
       "    <tr>\n",
       "      <th>...</th>\n",
       "      <td>...</td>\n",
       "      <td>...</td>\n",
       "      <td>...</td>\n",
       "      <td>...</td>\n",
       "      <td>...</td>\n",
       "      <td>...</td>\n",
       "      <td>...</td>\n",
       "      <td>...</td>\n",
       "      <td>...</td>\n",
       "      <td>...</td>\n",
       "      <td>...</td>\n",
       "      <td>...</td>\n",
       "      <td>...</td>\n",
       "      <td>...</td>\n",
       "      <td>...</td>\n",
       "      <td>...</td>\n",
       "      <td>...</td>\n",
       "      <td>...</td>\n",
       "      <td>...</td>\n",
       "      <td>...</td>\n",
       "      <td>...</td>\n",
       "    </tr>\n",
       "    <tr>\n",
       "      <th>343</th>\n",
       "      <td>IC230725A</td>\n",
       "      <td>138193</td>\n",
       "      <td>21103478</td>\n",
       "      <td>2023-07-25 21:30:51.063687</td>\n",
       "      <td>60150.896424</td>\n",
       "      <td>gfu-bronze</td>\n",
       "      <td>327.04</td>\n",
       "      <td>12.33</td>\n",
       "      <td>2.20</td>\n",
       "      <td>2.02</td>\n",
       "      <td>...</td>\n",
       "      <td>145.0</td>\n",
       "      <td>1.68</td>\n",
       "      <td>0.394</td>\n",
       "      <td>2.270000e-07</td>\n",
       "      <td>2.180000e-10</td>\n",
       "      <td>1.000000e+00</td>\n",
       "      <td>3.760000e-09</td>\n",
       "      <td>0.000132</td>\n",
       "      <td>False</td>\n",
       "      <td>NaN</td>\n",
       "    </tr>\n",
       "    <tr>\n",
       "      <th>344</th>\n",
       "      <td>IC230727A</td>\n",
       "      <td>138198</td>\n",
       "      <td>44334860</td>\n",
       "      <td>2023-07-27 16:05:39.630288</td>\n",
       "      <td>60152.670598</td>\n",
       "      <td>gfu-bronze</td>\n",
       "      <td>33.66</td>\n",
       "      <td>7.63</td>\n",
       "      <td>1.14</td>\n",
       "      <td>0.70</td>\n",
       "      <td>...</td>\n",
       "      <td>113.0</td>\n",
       "      <td>3.38</td>\n",
       "      <td>0.294</td>\n",
       "      <td>4.880000e-06</td>\n",
       "      <td>9.160000e-10</td>\n",
       "      <td>1.000000e+00</td>\n",
       "      <td>1.080000e-07</td>\n",
       "      <td>0.000053</td>\n",
       "      <td>False</td>\n",
       "      <td>NaN</td>\n",
       "    </tr>\n",
       "    <tr>\n",
       "      <th>345</th>\n",
       "      <td>IC230914A</td>\n",
       "      <td>138354</td>\n",
       "      <td>45413430</td>\n",
       "      <td>2023-09-14 05:21:03.717216</td>\n",
       "      <td>60201.222960</td>\n",
       "      <td>gfu-bronze</td>\n",
       "      <td>163.83</td>\n",
       "      <td>31.83</td>\n",
       "      <td>2.55</td>\n",
       "      <td>2.02</td>\n",
       "      <td>...</td>\n",
       "      <td>168.0</td>\n",
       "      <td>0.88</td>\n",
       "      <td>0.544</td>\n",
       "      <td>2.760000e-13</td>\n",
       "      <td>8.770000e-08</td>\n",
       "      <td>3.220000e-08</td>\n",
       "      <td>2.960000e-07</td>\n",
       "      <td>1.000000</td>\n",
       "      <td>False</td>\n",
       "      <td>NaN</td>\n",
       "    </tr>\n",
       "    <tr>\n",
       "      <th>346</th>\n",
       "      <td>IC231004A</td>\n",
       "      <td>138415</td>\n",
       "      <td>56188508</td>\n",
       "      <td>2023-10-04 14:39:41.180329</td>\n",
       "      <td>60221.610893</td>\n",
       "      <td>gfu-gold</td>\n",
       "      <td>143.79</td>\n",
       "      <td>25.04</td>\n",
       "      <td>1.05</td>\n",
       "      <td>0.97</td>\n",
       "      <td>...</td>\n",
       "      <td>442.0</td>\n",
       "      <td>0.45</td>\n",
       "      <td>0.842</td>\n",
       "      <td>8.750000e-11</td>\n",
       "      <td>1.440000e-08</td>\n",
       "      <td>1.440000e-04</td>\n",
       "      <td>6.870000e-05</td>\n",
       "      <td>1.000000</td>\n",
       "      <td>False</td>\n",
       "      <td>gfu-bronze</td>\n",
       "    </tr>\n",
       "    <tr>\n",
       "      <th>347</th>\n",
       "      <td>IC231014A</td>\n",
       "      <td>138449</td>\n",
       "      <td>20481611</td>\n",
       "      <td>2023-10-14 22:00:06.269328</td>\n",
       "      <td>60231.916739</td>\n",
       "      <td>gfu-bronze</td>\n",
       "      <td>297.16</td>\n",
       "      <td>1.34</td>\n",
       "      <td>2.72</td>\n",
       "      <td>4.57</td>\n",
       "      <td>...</td>\n",
       "      <td>105.0</td>\n",
       "      <td>4.85</td>\n",
       "      <td>0.254</td>\n",
       "      <td>7.880000e-09</td>\n",
       "      <td>1.300000e-06</td>\n",
       "      <td>8.940000e-06</td>\n",
       "      <td>9.410000e-05</td>\n",
       "      <td>1.000000</td>\n",
       "      <td>False</td>\n",
       "      <td>NaN</td>\n",
       "    </tr>\n",
       "  </tbody>\n",
       "</table>\n",
       "<p>348 rows × 22 columns</p>\n",
       "</div>"
      ],
      "text/plain": [
       "          NAME   RUNID   EVENTID                       START      EVENTMJD  \\\n",
       "0    IC110514A  118178  17334444  2011-05-14 01:32:22.654109  55695.064151   \n",
       "1    IC110610A  118309  46569873  2011-06-10 10:13:33.147086  55722.426078   \n",
       "2    IC110616A  118342  24578488  2011-06-16 17:30:53.939961  55728.729791   \n",
       "3    IC110714A  118435  58198553  2011-07-14 02:42:41.855488  55756.112984   \n",
       "4    IC110726A  118475  52691508  2011-07-26 12:15:33.258167  55768.510802   \n",
       "..         ...     ...       ...                         ...           ...   \n",
       "343  IC230725A  138193  21103478  2023-07-25 21:30:51.063687  60150.896424   \n",
       "344  IC230727A  138198  44334860  2023-07-27 16:05:39.630288  60152.670598   \n",
       "345  IC230914A  138354  45413430  2023-09-14 05:21:03.717216  60201.222960   \n",
       "346  IC231004A  138415  56188508  2023-10-04 14:39:41.180329  60221.610893   \n",
       "347  IC231014A  138449  20481611  2023-10-14 22:00:06.269328  60231.916739   \n",
       "\n",
       "         I3TYPE      RA    DEC  RA_ERR_PLUS  RA_ERR_MINUS  ...  ENERGY   FAR  \\\n",
       "0      gfu-gold  138.47  -1.94         6.68          3.78  ...   187.0  1.30   \n",
       "1      gfu-gold  272.55  35.64         1.67          2.42  ...   294.0  0.25   \n",
       "2    gfu-bronze   71.15   5.38         1.41          2.07  ...   109.0  4.34   \n",
       "3     hese-gold   68.20  40.67         0.31          1.10  ...    72.0  0.11   \n",
       "4    gfu-bronze  151.08   6.99         1.19          1.71  ...   160.0  1.92   \n",
       "..          ...     ...    ...          ...           ...  ...     ...   ...   \n",
       "343  gfu-bronze  327.04  12.33         2.20          2.02  ...   145.0  1.68   \n",
       "344  gfu-bronze   33.66   7.63         1.14          0.70  ...   113.0  3.38   \n",
       "345  gfu-bronze  163.83  31.83         2.55          2.02  ...   168.0  0.88   \n",
       "346    gfu-gold  143.79  25.04         1.05          0.97  ...   442.0  0.45   \n",
       "347  gfu-bronze  297.16   1.34         2.72          4.57  ...   105.0  4.85   \n",
       "\n",
       "     SIGNAL   CASCADE_SCR  SKIMMING_SCR     START_SCR      STOP_SCR  \\\n",
       "0     0.508  3.460000e-07  4.480000e-07  8.110000e-02  4.650000e-05   \n",
       "1     0.750  3.370000e-10  3.990000e-11  1.200000e-06  1.290000e-04   \n",
       "2     0.257  7.820000e-09  1.320000e-07  5.160000e-05  1.830000e-05   \n",
       "3     0.778  4.330000e-05  1.100000e-05  8.760000e-01  1.810000e-05   \n",
       "4     0.396  5.000000e-02  1.390000e-06  9.460000e-01  2.020000e-04   \n",
       "..      ...           ...           ...           ...           ...   \n",
       "343   0.394  2.270000e-07  2.180000e-10  1.000000e+00  3.760000e-09   \n",
       "344   0.294  4.880000e-06  9.160000e-10  1.000000e+00  1.080000e-07   \n",
       "345   0.544  2.760000e-13  8.770000e-08  3.220000e-08  2.960000e-07   \n",
       "346   0.842  8.750000e-11  1.440000e-08  1.440000e-04  6.870000e-05   \n",
       "347   0.254  7.880000e-09  1.300000e-06  8.940000e-06  9.410000e-05   \n",
       "\n",
       "     THRGOING_SCR  CR_VETO  OTHER_I3TYPES  \n",
       "0        0.919000    False            NaN  \n",
       "1        1.000000    False     gfu-bronze  \n",
       "2        1.000000    False            NaN  \n",
       "3        0.124000    False    hese-bronze  \n",
       "4        0.003820    False            NaN  \n",
       "..            ...      ...            ...  \n",
       "343      0.000132    False            NaN  \n",
       "344      0.000053    False            NaN  \n",
       "345      1.000000    False            NaN  \n",
       "346      1.000000    False     gfu-bronze  \n",
       "347      1.000000    False            NaN  \n",
       "\n",
       "[348 rows x 22 columns]"
      ]
     },
     "execution_count": 2,
     "metadata": {},
     "output_type": "execute_result"
    }
   ],
   "source": [
    "icecat1"
   ]
  },
  {
   "cell_type": "code",
   "execution_count": 3,
   "id": "2f1647ad-dbce-47a8-ba9c-526055272f80",
   "metadata": {
    "scrolled": true
   },
   "outputs": [
    {
     "data": {
      "text/plain": [
       "['NAME',\n",
       " 'RUNID',\n",
       " 'EVENTID',\n",
       " 'START',\n",
       " 'EVENTMJD',\n",
       " 'I3TYPE',\n",
       " 'RA',\n",
       " 'DEC',\n",
       " 'RA_ERR_PLUS',\n",
       " 'RA_ERR_MINUS',\n",
       " 'DEC_ERR_PLUS',\n",
       " 'DEC_ERR_MINUS',\n",
       " 'ENERGY',\n",
       " 'FAR',\n",
       " 'SIGNAL',\n",
       " 'CASCADE_SCR',\n",
       " 'SKIMMING_SCR',\n",
       " 'START_SCR',\n",
       " 'STOP_SCR',\n",
       " 'THRGOING_SCR',\n",
       " 'CR_VETO',\n",
       " 'OTHER_I3TYPES']"
      ]
     },
     "execution_count": 3,
     "metadata": {},
     "output_type": "execute_result"
    }
   ],
   "source": [
    "list(x for x in icecat1.columns)"
   ]
  },
  {
   "cell_type": "markdown",
   "id": "19f80fdc-7bca-4c2a-b75c-45071983f2ca",
   "metadata": {},
   "source": [
    "# Let's explain what some of these fields are..."
   ]
  },
  {
   "cell_type": "markdown",
   "id": "7b991be2-6979-43a8-ad46-c5799f8b3063",
   "metadata": {},
   "source": [
    "(**Copied directly from IceCube's documentation**)\n",
    "\n",
    "For each event, the CSV table contains:\n",
    " - RUNID,EVENTID: Unique RunID and EventID combination from IceCube DAQ system\n",
    " - START,EVENTMJD: Date/time of event detection\n",
    ":q\n",
    " - I3TYPE: Identification of event selection type (see supporting paper publication for details).  gfu-gold, gfu-bronze, ehe-gold, hese-gold, or hese-bronze types\n",
    " - OTHER_I3TYPES: List of other I3TYPE event selection types this event additionally passed.\n",
    " - RA,DEC [deg] (and _ERR): Best fit direction in J2000 equatorial coordinates, with asymmetric 90% CL error rectangle boundaries.\n",
    " - ENERGY:[TeV] Most probable neutrino energy that would have produced this event.  Calculated assuming an E^(-2.19) astrophysical neutrino power law flux.\n",
    " - FAR: [yr^(-1)] Rate of background events expected for alert events at this energy and sky location.\n",
    " - SIGNAL: Probability event is of astrophysical origin, calculated assuming an E^(-2.19) astrophysical neutrino power law flux.\n",
    " - *_SCR: Probabilities from post-alert convolutional neural network based classifier applied to each event to  better distinguish each events topological signal in the detector\n",
    "     - THRGOING_SCR: Primary event vertex outside is the detector and a muon-like track is observed passing through the instrumented volume\n",
    "     - START_SCR: Primary event vertex is inside the instrumented volume and a muon-like track is seen\n",
    "     - CASCADE_SCR: Primary event vertex is inside the instrumented volume and a shower (non-muon-like track) is observed\n",
    "     - SKIMMING_SCR: Primary event vertex outside is the detector and little or no energy deposited within instrumented volume\n",
    "     - STOP_SCR: Primary event vertex outside is the detector and a muon-like track is observed stopping in the instrumented volume\n",
    " - CR_VETO [Bool]: Significant in-time cosmic-ray shower activity detected in the surface IceTop array, indicating this event is likely a background event.  \n",
    "     - Note: at time of alert creation this was not available, and therefore events have been evaluated and tagged after fact rather than removed. "
   ]
  },
  {
   "cell_type": "markdown",
   "id": "dfd378e7-949d-4e76-9e7d-1b12d4f38ee3",
   "metadata": {},
   "source": [
    "**An additional note about names**\n",
    "\n",
    "IceCube neutrinos are named in the same way as GRBs:\n",
    "\n",
    "    IC + date of detection + alphabetical order key\n",
    "\n",
    "So the first neutrino detected on 2024 September 01 would be IC240901A, the second would be IC240901B, and so on."
   ]
  },
  {
   "cell_type": "markdown",
   "id": "8435c4ac-b33f-401c-bb78-9aa77d863f34",
   "metadata": {},
   "source": [
    "# Understanding the neutrino alert data"
   ]
  },
  {
   "cell_type": "markdown",
   "id": "82c9b5ad-dc24-48d3-97e5-28cb4f09e119",
   "metadata": {},
   "source": [
    "IceCube's effective area varies as a function of declination, and azimuth. \n",
    "\n",
    "However, because the Earth rotates and IceCube is at the South Pole, azimuthal variations get smoothed out over time. Zenith variations do not. "
   ]
  },
  {
   "cell_type": "code",
   "execution_count": 4,
   "id": "a5f6f6c7-850b-4a4f-9e83-a8cca56d9189",
   "metadata": {},
   "outputs": [
    {
     "data": {
      "text/plain": [
       "(-1.0, 1.0)"
      ]
     },
     "execution_count": 4,
     "metadata": {},
     "output_type": "execute_result"
    },
    {
     "data": {
      "image/png": "[encoded data removed]",
      "text/plain": [
       "<Figure size 640x480 with 1 Axes>"
      ]
     },
     "metadata": {},
     "output_type": "display_data"
    }
   ],
   "source": [
    "# Plot the distribution of alerts as a function of sin(declination). Is it uniform?\n",
    "\n",
    "# Remember to convert from degrees to radians first!\n",
    "sindecs = np.sin(np.radians(icecat1[\"DEC\"]))\n",
    "\n",
    "plt.hist(sindecs) # Sin(dec) not dec to account for projection effects for a sphere\n",
    "\n",
    "# Plot median, and 25th/75th percentile \n",
    "for val in [25, 50., 75.]:\n",
    "    plt.axvline(np.percentile(sindecs, val, axis=0), linestyle=\":\", color=\"k\")\n",
    "\n",
    "plt.xlabel(\"Sin(declination)\")\n",
    "plt.xlim(-1., 1.)"
   ]
  },
  {
   "cell_type": "code",
   "execution_count": 5,
   "id": "b5f4e82e-b501-415b-98db-3f83526679f8",
   "metadata": {},
   "outputs": [
    {
     "data": {
      "text/plain": [
       "(0.0, 360.0)"
      ]
     },
     "execution_count": 5,
     "metadata": {},
     "output_type": "execute_result"
    },
    {
     "data": {
      "image/png": "[encoded data removed]",
      "text/plain": [
       "<Figure size 640x480 with 1 Axes>"
      ]
     },
     "metadata": {},
     "output_type": "display_data"
    }
   ],
   "source": [
    "# Plot RA, is it uniform?\n",
    "plt.hist(icecat1[\"RA\"])\n",
    "for val in [25, 50., 75.]:\n",
    "    plt.axvline(np.percentile(icecat1[\"RA\"], val, axis=0), linestyle=\":\", color=\"k\")\n",
    "plt.xlabel(\"Right Ascension [degrees]\")\n",
    "plt.xlim(0., 360.)"
   ]
  },
  {
   "cell_type": "markdown",
   "id": "beed15a6-7e2a-4600-b175-87dac022b398",
   "metadata": {},
   "source": [
    "# Augmenting Neutrino Data"
   ]
  },
  {
   "cell_type": "markdown",
   "id": "a208aa8c-29cc-49f0-805f-da2ee881681a",
   "metadata": {},
   "source": [
    "## Localisation Area"
   ]
  },
  {
   "cell_type": "code",
   "execution_count": 6,
   "id": "527f9a31-86bc-4287-83d3-7b522f7f8f1c",
   "metadata": {},
   "outputs": [],
   "source": [
    "# Let's approximate the localisation from IceCube as a rectangle. \n",
    "# The true contour is not always Gaussian/elliptical, and is not released in real time.\n",
    "# Generally the simplest thing is to just take the rectangle at face value.\n",
    "\n",
    "# What is the area of each alert? Remember to account for projection on a sphere - https://en.wikipedia.org/wiki/Great-circle_distance \n",
    "\n",
    "ang = np.radians(icecat1[\"DEC\"])\n",
    "delta_ra = (icecat1[\"RA_ERR_PLUS\"] + icecat1[\"RA_ERR_MINUS\"]) * np.pi/180.\n",
    "width_dec = (icecat1[\"DEC_ERR_PLUS\"] + icecat1[\"DEC_ERR_MINUS\"]) * np.pi/180.\n",
    "\n",
    "width_ra = np.arccos(np.sin(ang)**2. + (np.cos(ang)**2. * np.cos(delta_ra)))\n",
    "\n",
    "area = (width_ra * width_dec) * (180. / np.pi)**2.\n",
    "\n",
    "icecat1[\"AREA\"] = area"
   ]
  },
  {
   "cell_type": "code",
   "execution_count": 7,
   "id": "17a91798-b7df-44da-a569-87e19a1a9d4b",
   "metadata": {},
   "outputs": [
    {
     "name": "stdout",
     "output_type": "stream",
     "text": [
      "Median neutrino area is 7.7 sq. deg, mean is 25.1\n"
     ]
    }
   ],
   "source": [
    "# What is the median localisation?\n",
    "print(f'Median neutrino area is {icecat1[\"AREA\"].median():.1f} sq. deg, mean is {icecat1[\"AREA\"].mean():.1f}')"
   ]
  },
  {
   "cell_type": "code",
   "execution_count": 8,
   "id": "66e87653-e1c8-4eff-9ea9-0cae046b562c",
   "metadata": {},
   "outputs": [
    {
     "data": {
      "text/plain": [
       "<matplotlib.lines.Line2D at 0x10aabecd0>"
      ]
     },
     "execution_count": 8,
     "metadata": {},
     "output_type": "execute_result"
    },
    {
     "data": {
      "image/png": "[encoded data removed]",
      "text/plain": [
       "<Figure size 640x480 with 1 Axes>"
      ]
     },
     "metadata": {},
     "output_type": "display_data"
    }
   ],
   "source": [
    "plt.hist(np.log10(icecat1[\"AREA\"]))\n",
    "plt.xlabel(\"Area [sq deg]\")\n",
    "x_ticks = np.logspace(-1, 3, 5) # Convert labels from log\n",
    "plt.xticks(np.log10(x_ticks), x_ticks)\n",
    "plt.axvline(np.log10(icecat1[\"AREA\"].median()), color=\"k\", linestyle=\":\")"
   ]
  },
  {
   "cell_type": "markdown",
   "id": "f2184848-cbff-4e8b-b1d1-1f732b4a35b1",
   "metadata": {},
   "source": [
    "The neutrino localisations vary dramatically. The median is ~8 sq deg, but some have localisations > 100 sq deg. \n",
    "This is due to the topology of each event, with some neutrinos being much easier to reconstruct than others. The probability that an object accidentally coincides with a neutrino is much higher for large neutrinos. "
   ]
  },
  {
   "cell_type": "code",
   "execution_count": 9,
   "id": "ac6c08df-ee17-48b6-83c2-c0fca69708df",
   "metadata": {},
   "outputs": [
    {
     "name": "stdout",
     "output_type": "stream",
     "text": [
      "Selected 97 neutrinos out of 348 total neutrinos\n"
     ]
    }
   ],
   "source": [
    "# Now make some basic cuts to select \"high-quality alerts\"\n",
    "\n",
    "mask = (\n",
    "    (~icecat1[\"CR_VETO\"].astype(bool))  # Is the neutrino alert coincident with a cosmic ray air shower? If so, likely background.\n",
    "    & (icecat1[\"AREA\"] < 35.) # Is the neutrino localisation reasonably small?\n",
    "    & (icecat1[\"SIGNAL\"] > 0.5) # Is the neutrino likely to be astrophysical\n",
    ")\n",
    "\n",
    "print(f\"Selected {mask.sum()} neutrinos out of {len(mask)} total neutrinos\")"
   ]
  },
  {
   "cell_type": "code",
   "execution_count": 10,
   "id": "3f0fa7a1-d199-471b-944e-878a4506265c",
   "metadata": {},
   "outputs": [],
   "source": [
    "icecat1[mask].to_csv(icecat1_cut_path)"
   ]
  },
  {
   "cell_type": "code",
   "execution_count": null,
   "id": "522f43a1-6793-4ad8-aaef-ccca54552d96",
   "metadata": {},
   "outputs": [],
   "source": []
  }
 ],
 "metadata": {
  "kernelspec": {
   "display_name": "nuclassenv",
   "language": "python",
   "name": "nuclassenv"
  },
  "language_info": {
   "codemirror_mode": {
    "name": "ipython",
    "version": 3
   },
   "file_extension": ".py",
   "mimetype": "text/x-python",
   "name": "python",
   "nbconvert_exporter": "python",
   "pygments_lexer": "ipython3",
   "version": "3.11.9"
  }
 },
 "nbformat": 4,
 "nbformat_minor": 5
}
